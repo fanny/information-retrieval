{
  "nbformat": 4,
  "nbformat_minor": 0,
  "metadata": {
    "colab": {
      "name": "text_processing.ipynb",
      "version": "0.3.2",
      "provenance": [],
      "collapsed_sections": [],
      "toc_visible": true,
      "include_colab_link": true
    },
    "kernelspec": {
      "name": "python3",
      "display_name": "Python 3"
    }
  },
  "cells": [
    {
      "cell_type": "markdown",
      "metadata": {
        "id": "view-in-github",
        "colab_type": "text"
      },
      "source": [
        "<a href=\"https://colab.research.google.com/github/fanny/information-retrieval/blob/master/lab2/text_processing.ipynb\" target=\"_parent\"><img src=\"https://colab.research.google.com/assets/colab-badge.svg\" alt=\"Open In Colab\"/></a>"
      ]
    },
    {
      "metadata": {
        "id": "voA5gwqMfHBB",
        "colab_type": "code",
        "outputId": "109ddf16-20ae-4a45-9565-93d4d6d783cf",
        "colab": {
          "base_uri": "https://localhost:8080/",
          "height": 293
        }
      },
      "cell_type": "code",
      "source": [
        "import pandas as pd\n",
        "import seaborn as sns\n",
        "import matplotlib \n",
        "\n",
        "data = pd.read_csv('https://raw.githubusercontent.com/fanny/information-retrieval/master/lab2/data/results.csv')\n",
        "data.head()"
      ],
      "execution_count": 65,
      "outputs": [
        {
          "output_type": "execute_result",
          "data": {
            "text/html": [
              "<div>\n",
              "<style scoped>\n",
              "    .dataframe tbody tr th:only-of-type {\n",
              "        vertical-align: middle;\n",
              "    }\n",
              "\n",
              "    .dataframe tbody tr th {\n",
              "        vertical-align: top;\n",
              "    }\n",
              "\n",
              "    .dataframe thead th {\n",
              "        text-align: right;\n",
              "    }\n",
              "</style>\n",
              "<table border=\"1\" class=\"dataframe\">\n",
              "  <thead>\n",
              "    <tr style=\"text-align: right;\">\n",
              "      <th></th>\n",
              "      <th>_id</th>\n",
              "      <th>author</th>\n",
              "      <th>date</th>\n",
              "      <th>section</th>\n",
              "      <th>sub_title</th>\n",
              "      <th>text</th>\n",
              "      <th>title</th>\n",
              "      <th>url</th>\n",
              "    </tr>\n",
              "  </thead>\n",
              "  <tbody>\n",
              "    <tr>\n",
              "      <th>0</th>\n",
              "      <td>18</td>\n",
              "      <td>Gazeta do Povo</td>\n",
              "      <td>NaN</td>\n",
              "      <td>educacao</td>\n",
              "      <td>NaN</td>\n",
              "      <td>S o b r e   a   i n d i c a ç ã o   d e   q u ...</td>\n",
              "      <td>Populares</td>\n",
              "      <td>https://www.gazetadopovo.com.br/educacao/olavo...</td>\n",
              "    </tr>\n",
              "    <tr>\n",
              "      <th>1</th>\n",
              "      <td>6</td>\n",
              "      <td>Agência Estado</td>\n",
              "      <td>NaN</td>\n",
              "      <td>republica</td>\n",
              "      <td>NaN</td>\n",
              "      <td>O   l í d e r   d o   M D B   n a   C â m a r ...</td>\n",
              "      <td>Populares</td>\n",
              "      <td>https://www.gazetadopovo.com.br/republica/pec-...</td>\n",
              "    </tr>\n",
              "    <tr>\n",
              "      <th>2</th>\n",
              "      <td>5</td>\n",
              "      <td>Gazeta do Povo</td>\n",
              "      <td>NaN</td>\n",
              "      <td>curitiba</td>\n",
              "      <td>NaN</td>\n",
              "      <td>D e p o i s   d e   u m a   s e m a n a   d e ...</td>\n",
              "      <td>Populares</td>\n",
              "      <td>https://www.gazetadopovo.com.br/curitiba/previ...</td>\n",
              "    </tr>\n",
              "    <tr>\n",
              "      <th>3</th>\n",
              "      <td>8</td>\n",
              "      <td>Raphael Sibila, especial para a Gazeta do Povo</td>\n",
              "      <td>NaN</td>\n",
              "      <td>republica</td>\n",
              "      <td>NaN</td>\n",
              "      <td>“ S e   v o c ê   n ã o   t e m   a   c a p a ...</td>\n",
              "      <td>Populares</td>\n",
              "      <td>https://www.gazetadopovo.com.br/republica/braz...</td>\n",
              "    </tr>\n",
              "    <tr>\n",
              "      <th>4</th>\n",
              "      <td>11</td>\n",
              "      <td>The Daily Signal</td>\n",
              "      <td>NaN</td>\n",
              "      <td>ideias</td>\n",
              "      <td>NaN</td>\n",
              "      <td>P e s s o a s   q u e   b u s c a m   u m a   ...</td>\n",
              "      <td>Populares</td>\n",
              "      <td>https://www.gazetadopovo.com.br/ideias/nao-se-...</td>\n",
              "    </tr>\n",
              "  </tbody>\n",
              "</table>\n",
              "</div>"
            ],
            "text/plain": [
              "   _id                                          author date    section  \\\n",
              "0   18                                  Gazeta do Povo  NaN   educacao   \n",
              "1    6                                  Agência Estado  NaN  republica   \n",
              "2    5                                  Gazeta do Povo  NaN   curitiba   \n",
              "3    8  Raphael Sibila, especial para a Gazeta do Povo  NaN  republica   \n",
              "4   11                                The Daily Signal  NaN     ideias   \n",
              "\n",
              "  sub_title                                               text      title  \\\n",
              "0       NaN  S o b r e   a   i n d i c a ç ã o   d e   q u ...  Populares   \n",
              "1       NaN  O   l í d e r   d o   M D B   n a   C â m a r ...  Populares   \n",
              "2       NaN  D e p o i s   d e   u m a   s e m a n a   d e ...  Populares   \n",
              "3       NaN  “ S e   v o c ê   n ã o   t e m   a   c a p a ...  Populares   \n",
              "4       NaN  P e s s o a s   q u e   b u s c a m   u m a   ...  Populares   \n",
              "\n",
              "                                                 url  \n",
              "0  https://www.gazetadopovo.com.br/educacao/olavo...  \n",
              "1  https://www.gazetadopovo.com.br/republica/pec-...  \n",
              "2  https://www.gazetadopovo.com.br/curitiba/previ...  \n",
              "3  https://www.gazetadopovo.com.br/republica/braz...  \n",
              "4  https://www.gazetadopovo.com.br/ideias/nao-se-...  "
            ]
          },
          "metadata": {
            "tags": []
          },
          "execution_count": 65
        }
      ]
    },
    {
      "metadata": {
        "id": "0wcWTO84w2Mm",
        "colab_type": "code",
        "colab": {}
      },
      "cell_type": "code",
      "source": [
        "clean_text = data['text'].dropna()"
      ],
      "execution_count": 0,
      "outputs": []
    },
    {
      "metadata": {
        "id": "SKqKXx2gHC0y",
        "colab_type": "code",
        "colab": {}
      },
      "cell_type": "code",
      "source": [
        "import re\n",
        "\n",
        "def filter_valid_words(text):\n",
        "  return re.sub(r'(\\W+|\\d+|\\b\\w{0,3}\\b)', ' ', text.lower())"
      ],
      "execution_count": 0,
      "outputs": []
    },
    {
      "metadata": {
        "id": "4oLAe8CMG27-",
        "colab_type": "code",
        "colab": {
          "base_uri": "https://localhost:8080/",
          "height": 382
        },
        "outputId": "6f342d95-ac6b-47b8-9396-1c4d0bf4dca6"
      },
      "cell_type": "code",
      "source": [
        "clean_text = clean_text.apply(filter_valid_words)\n",
        "clean_text.head(20)"
      ],
      "execution_count": 68,
      "outputs": [
        {
          "output_type": "execute_result",
          "data": {
            "text/plain": [
              "0                                                   ...\n",
              "1                                                   ...\n",
              "2                                                   ...\n",
              "3                                                   ...\n",
              "4                                                   ...\n",
              "7                                                   ...\n",
              "10                                                  ...\n",
              "11                                                  ...\n",
              "12                                                  ...\n",
              "13                                                  ...\n",
              "14                                                  ...\n",
              "15     pessoas   buscam   identidade transsexual   n...\n",
              "16     depois     semana   calor curitiba terá      ...\n",
              "17      promessas   muitas combater   envelhecimento...\n",
              "18      líder       câmara baleia rossi   protocolou...\n",
              "19      meia atacante maicosuel está     situação in...\n",
              "20     concretizar   compra     carro novo   sempre ...\n",
              "21          horário   verão mudanças   secom     min...\n",
              "23      levou   encerramento   audiência   comissão ...\n",
              "24     apenas     depois   sediar     vietnã deporto...\n",
              "Name: text, dtype: object"
            ]
          },
          "metadata": {
            "tags": []
          },
          "execution_count": 68
        }
      ]
    },
    {
      "metadata": {
        "id": "puPy-GPPOqX3",
        "colab_type": "code",
        "colab": {}
      },
      "cell_type": "code",
      "source": [
        "all_formatted_text = clean_text.str.cat(sep=' ') "
      ],
      "execution_count": 0,
      "outputs": []
    },
    {
      "metadata": {
        "id": "bM8WCz7MRpaH",
        "colab_type": "code",
        "colab": {
          "base_uri": "https://localhost:8080/",
          "height": 520
        },
        "outputId": "4935b897-9469-43ed-85a2-dbe4a3654259"
      },
      "cell_type": "code",
      "source": [
        "word_list = [text for text in all_formatted_text.split(' ') if len(text) > 0]\n",
        "words = pd.DataFrame(word_list, columns=['word'])\n",
        "words.head(15)"
      ],
      "execution_count": 73,
      "outputs": [
        {
          "output_type": "execute_result",
          "data": {
            "text/html": [
              "<div>\n",
              "<style scoped>\n",
              "    .dataframe tbody tr th:only-of-type {\n",
              "        vertical-align: middle;\n",
              "    }\n",
              "\n",
              "    .dataframe tbody tr th {\n",
              "        vertical-align: top;\n",
              "    }\n",
              "\n",
              "    .dataframe thead th {\n",
              "        text-align: right;\n",
              "    }\n",
              "</style>\n",
              "<table border=\"1\" class=\"dataframe\">\n",
              "  <thead>\n",
              "    <tr style=\"text-align: right;\">\n",
              "      <th></th>\n",
              "      <th>word</th>\n",
              "    </tr>\n",
              "  </thead>\n",
              "  <tbody>\n",
              "    <tr>\n",
              "      <th>0</th>\n",
              "      <td>pessoas</td>\n",
              "    </tr>\n",
              "    <tr>\n",
              "      <th>1</th>\n",
              "      <td>buscam</td>\n",
              "    </tr>\n",
              "    <tr>\n",
              "      <th>2</th>\n",
              "      <td>identidade</td>\n",
              "    </tr>\n",
              "    <tr>\n",
              "      <th>3</th>\n",
              "      <td>transsexual</td>\n",
              "    </tr>\n",
              "    <tr>\n",
              "      <th>4</th>\n",
              "      <td>nasceram</td>\n",
              "    </tr>\n",
              "    <tr>\n",
              "      <th>5</th>\n",
              "      <td>assim</td>\n",
              "    </tr>\n",
              "    <tr>\n",
              "      <th>6</th>\n",
              "      <td>crianças</td>\n",
              "    </tr>\n",
              "    <tr>\n",
              "      <th>7</th>\n",
              "      <td>devem</td>\n",
              "    </tr>\n",
              "    <tr>\n",
              "      <th>8</th>\n",
              "      <td>estimuladas</td>\n",
              "    </tr>\n",
              "    <tr>\n",
              "      <th>9</th>\n",
              "      <td>fazer</td>\n",
              "    </tr>\n",
              "    <tr>\n",
              "      <th>10</th>\n",
              "      <td>transição</td>\n",
              "    </tr>\n",
              "    <tr>\n",
              "      <th>11</th>\n",
              "      <td>para</td>\n",
              "    </tr>\n",
              "    <tr>\n",
              "      <th>12</th>\n",
              "      <td>sexo</td>\n",
              "    </tr>\n",
              "    <tr>\n",
              "      <th>13</th>\n",
              "      <td>oposto</td>\n",
              "    </tr>\n",
              "    <tr>\n",
              "      <th>14</th>\n",
              "      <td>quem</td>\n",
              "    </tr>\n",
              "  </tbody>\n",
              "</table>\n",
              "</div>"
            ],
            "text/plain": [
              "           word\n",
              "0       pessoas\n",
              "1        buscam\n",
              "2    identidade\n",
              "3   transsexual\n",
              "4      nasceram\n",
              "5         assim\n",
              "6      crianças\n",
              "7         devem\n",
              "8   estimuladas\n",
              "9         fazer\n",
              "10    transição\n",
              "11         para\n",
              "12         sexo\n",
              "13       oposto\n",
              "14         quem"
            ]
          },
          "metadata": {
            "tags": []
          },
          "execution_count": 73
        }
      ]
    },
    {
      "metadata": {
        "id": "6pSqef4XaToW",
        "colab_type": "code",
        "colab": {
          "base_uri": "https://localhost:8080/",
          "height": 903
        },
        "outputId": "0f7838aa-0cf3-43b0-9698-74b75520a9b7"
      },
      "cell_type": "code",
      "source": [
        "frequencies = words['word'].value_counts()\n",
        "frequencies.head(50)"
      ],
      "execution_count": 78,
      "outputs": [
        {
          "output_type": "execute_result",
          "data": {
            "text/plain": [
              "para          778\n",
              "mais          303\n",
              "como          261\n",
              "pela          163\n",
              "pelo          158\n",
              "também        158\n",
              "disse         150\n",
              "governo       146\n",
              "sobre         141\n",
              "anos          135\n",
              "presidente    133\n",
              "entre         131\n",
              "ainda         114\n",
              "segundo       112\n",
              "isso          109\n",
              "está          108\n",
              "brasil        104\n",
              "pode          101\n",
              "ministro       93\n",
              "feira          87\n",
              "foram          82\n",
              "bolsonaro      82\n",
              "quando         81\n",
              "pessoas        77\n",
              "país           70\n",
              "seja           70\n",
              "mesmo          69\n",
              "após           69\n",
              "muito          65\n",
              "sistema        63\n",
              "além           62\n",
              "eles           62\n",
              "caso           59\n",
              "estados        58\n",
              "educação       58\n",
              "grupo          56\n",
              "nacional       55\n",
              "essa           55\n",
              "ministério     54\n",
              "contra         53\n",
              "apenas         53\n",
              "quem           53\n",
              "dois           52\n",
              "todos          52\n",
              "depois         52\n",
              "seus           51\n",
              "estão          51\n",
              "estado         51\n",
              "maior          51\n",
              "outros         50\n",
              "Name: word, dtype: int64"
            ]
          },
          "metadata": {
            "tags": []
          },
          "execution_count": 78
        }
      ]
    },
    {
      "metadata": {
        "id": "wkHUesApTgin",
        "colab_type": "code",
        "colab": {}
      },
      "cell_type": "code",
      "source": [
        "statistics = {}\n",
        "statistics['total_documents'] = len(clean_text)\n",
        "statistics['total_words_occurences'] = len(words)\n",
        "statistics['vocabulary_size'] = len(words.word.unique())\n",
        "statistics['words_occurring_greater_1000_times'] = len(frequencies[frequencies > 1000])\n",
        "statistics['words_occurring_once'] = len(frequencies[frequencies == 1])"
      ],
      "execution_count": 0,
      "outputs": []
    },
    {
      "metadata": {
        "id": "U32v5Ck-cjm5",
        "colab_type": "code",
        "colab": {
          "base_uri": "https://localhost:8080/",
          "height": 81
        },
        "outputId": "f7f095dc-1455-4660-d0ca-b08a130ebfd7"
      },
      "cell_type": "code",
      "source": [
        "data_statistics = pd.DataFrame(statistics, index=[0])\n",
        "data_statistics"
      ],
      "execution_count": 83,
      "outputs": [
        {
          "output_type": "execute_result",
          "data": {
            "text/html": [
              "<div>\n",
              "<style scoped>\n",
              "    .dataframe tbody tr th:only-of-type {\n",
              "        vertical-align: middle;\n",
              "    }\n",
              "\n",
              "    .dataframe tbody tr th {\n",
              "        vertical-align: top;\n",
              "    }\n",
              "\n",
              "    .dataframe thead th {\n",
              "        text-align: right;\n",
              "    }\n",
              "</style>\n",
              "<table border=\"1\" class=\"dataframe\">\n",
              "  <thead>\n",
              "    <tr style=\"text-align: right;\">\n",
              "      <th></th>\n",
              "      <th>total_documents</th>\n",
              "      <th>total_words_occurences</th>\n",
              "      <th>vocabulary_size</th>\n",
              "      <th>words_occurring_greater_1000_times</th>\n",
              "      <th>words_occurring_once</th>\n",
              "    </tr>\n",
              "  </thead>\n",
              "  <tbody>\n",
              "    <tr>\n",
              "      <th>0</th>\n",
              "      <td>119</td>\n",
              "      <td>35412</td>\n",
              "      <td>9380</td>\n",
              "      <td>0</td>\n",
              "      <td>5023</td>\n",
              "    </tr>\n",
              "  </tbody>\n",
              "</table>\n",
              "</div>"
            ],
            "text/plain": [
              "   total_documents  total_words_occurences  vocabulary_size  \\\n",
              "0              119                   35412             9380   \n",
              "\n",
              "   words_occurring_greater_1000_times  words_occurring_once  \n",
              "0                                   0                  5023  "
            ]
          },
          "metadata": {
            "tags": []
          },
          "execution_count": 83
        }
      ]
    }
  ]
}