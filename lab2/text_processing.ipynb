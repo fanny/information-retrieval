{
  "nbformat": 4,
  "nbformat_minor": 0,
  "metadata": {
    "colab": {
      "name": "text_processing.ipynb",
      "version": "0.3.2",
      "provenance": [],
      "collapsed_sections": [],
      "toc_visible": true,
      "include_colab_link": true
    },
    "kernelspec": {
      "name": "python3",
      "display_name": "Python 3"
    }
  },
  "cells": [
    {
      "cell_type": "markdown",
      "metadata": {
        "id": "view-in-github",
        "colab_type": "text"
      },
      "source": [
        "<a href=\"https://colab.research.google.com/github/fanny/information-retrieval/blob/master/lab2/text_processing.ipynb\" target=\"_parent\"><img src=\"https://colab.research.google.com/assets/colab-badge.svg\" alt=\"Open In Colab\"/></a>"
      ]
    },
    {
      "metadata": {
        "id": "voA5gwqMfHBB",
        "colab_type": "code",
        "outputId": "107cd9ff-7ff4-4e33-b284-4128d14a8be6",
        "colab": {
          "base_uri": "https://localhost:8080/",
          "height": 293
        }
      },
      "cell_type": "code",
      "source": [
        "import pandas as pd\n",
        "import numpy as np\n",
        "import seaborn as sns\n",
        "import matplotlib \n",
        "\n",
        "data = pd.read_csv('https://raw.githubusercontent.com/fanny/information-retrieval/master/lab2/data/results.csv')\n",
        "data.head()"
      ],
      "execution_count": 113,
      "outputs": [
        {
          "output_type": "execute_result",
          "data": {
            "text/html": [
              "<div>\n",
              "<style scoped>\n",
              "    .dataframe tbody tr th:only-of-type {\n",
              "        vertical-align: middle;\n",
              "    }\n",
              "\n",
              "    .dataframe tbody tr th {\n",
              "        vertical-align: top;\n",
              "    }\n",
              "\n",
              "    .dataframe thead th {\n",
              "        text-align: right;\n",
              "    }\n",
              "</style>\n",
              "<table border=\"1\" class=\"dataframe\">\n",
              "  <thead>\n",
              "    <tr style=\"text-align: right;\">\n",
              "      <th></th>\n",
              "      <th>_id</th>\n",
              "      <th>author</th>\n",
              "      <th>date</th>\n",
              "      <th>section</th>\n",
              "      <th>sub_title</th>\n",
              "      <th>text</th>\n",
              "      <th>title</th>\n",
              "      <th>url</th>\n",
              "    </tr>\n",
              "  </thead>\n",
              "  <tbody>\n",
              "    <tr>\n",
              "      <th>0</th>\n",
              "      <td>18</td>\n",
              "      <td>Gazeta do Povo</td>\n",
              "      <td>NaN</td>\n",
              "      <td>educacao</td>\n",
              "      <td>NaN</td>\n",
              "      <td>S o b r e   a   i n d i c a ç ã o   d e   q u ...</td>\n",
              "      <td>Populares</td>\n",
              "      <td>https://www.gazetadopovo.com.br/educacao/olavo...</td>\n",
              "    </tr>\n",
              "    <tr>\n",
              "      <th>1</th>\n",
              "      <td>6</td>\n",
              "      <td>Agência Estado</td>\n",
              "      <td>NaN</td>\n",
              "      <td>republica</td>\n",
              "      <td>NaN</td>\n",
              "      <td>O   l í d e r   d o   M D B   n a   C â m a r ...</td>\n",
              "      <td>Populares</td>\n",
              "      <td>https://www.gazetadopovo.com.br/republica/pec-...</td>\n",
              "    </tr>\n",
              "    <tr>\n",
              "      <th>2</th>\n",
              "      <td>5</td>\n",
              "      <td>Gazeta do Povo</td>\n",
              "      <td>NaN</td>\n",
              "      <td>curitiba</td>\n",
              "      <td>NaN</td>\n",
              "      <td>D e p o i s   d e   u m a   s e m a n a   d e ...</td>\n",
              "      <td>Populares</td>\n",
              "      <td>https://www.gazetadopovo.com.br/curitiba/previ...</td>\n",
              "    </tr>\n",
              "    <tr>\n",
              "      <th>3</th>\n",
              "      <td>8</td>\n",
              "      <td>Raphael Sibila, especial para a Gazeta do Povo</td>\n",
              "      <td>NaN</td>\n",
              "      <td>republica</td>\n",
              "      <td>NaN</td>\n",
              "      <td>“ S e   v o c ê   n ã o   t e m   a   c a p a ...</td>\n",
              "      <td>Populares</td>\n",
              "      <td>https://www.gazetadopovo.com.br/republica/braz...</td>\n",
              "    </tr>\n",
              "    <tr>\n",
              "      <th>4</th>\n",
              "      <td>11</td>\n",
              "      <td>The Daily Signal</td>\n",
              "      <td>NaN</td>\n",
              "      <td>ideias</td>\n",
              "      <td>NaN</td>\n",
              "      <td>P e s s o a s   q u e   b u s c a m   u m a   ...</td>\n",
              "      <td>Populares</td>\n",
              "      <td>https://www.gazetadopovo.com.br/ideias/nao-se-...</td>\n",
              "    </tr>\n",
              "  </tbody>\n",
              "</table>\n",
              "</div>"
            ],
            "text/plain": [
              "   _id                                          author date    section  \\\n",
              "0   18                                  Gazeta do Povo  NaN   educacao   \n",
              "1    6                                  Agência Estado  NaN  republica   \n",
              "2    5                                  Gazeta do Povo  NaN   curitiba   \n",
              "3    8  Raphael Sibila, especial para a Gazeta do Povo  NaN  republica   \n",
              "4   11                                The Daily Signal  NaN     ideias   \n",
              "\n",
              "  sub_title                                               text      title  \\\n",
              "0       NaN  S o b r e   a   i n d i c a ç ã o   d e   q u ...  Populares   \n",
              "1       NaN  O   l í d e r   d o   M D B   n a   C â m a r ...  Populares   \n",
              "2       NaN  D e p o i s   d e   u m a   s e m a n a   d e ...  Populares   \n",
              "3       NaN  “ S e   v o c ê   n ã o   t e m   a   c a p a ...  Populares   \n",
              "4       NaN  P e s s o a s   q u e   b u s c a m   u m a   ...  Populares   \n",
              "\n",
              "                                                 url  \n",
              "0  https://www.gazetadopovo.com.br/educacao/olavo...  \n",
              "1  https://www.gazetadopovo.com.br/republica/pec-...  \n",
              "2  https://www.gazetadopovo.com.br/curitiba/previ...  \n",
              "3  https://www.gazetadopovo.com.br/republica/braz...  \n",
              "4  https://www.gazetadopovo.com.br/ideias/nao-se-...  "
            ]
          },
          "metadata": {
            "tags": []
          },
          "execution_count": 113
        }
      ]
    },
    {
      "metadata": {
        "id": "0wcWTO84w2Mm",
        "colab_type": "code",
        "colab": {}
      },
      "cell_type": "code",
      "source": [
        "clean_text = data['text'].dropna()"
      ],
      "execution_count": 0,
      "outputs": []
    },
    {
      "metadata": {
        "id": "SKqKXx2gHC0y",
        "colab_type": "code",
        "colab": {}
      },
      "cell_type": "code",
      "source": [
        "import re\n",
        "\n",
        "def filter_valid_words(text):\n",
        "  return re.sub(r'(\\W+|\\d+|\\b\\w{0,3}\\b)', ' ', text.lower())"
      ],
      "execution_count": 0,
      "outputs": []
    },
    {
      "metadata": {
        "id": "4oLAe8CMG27-",
        "colab_type": "code",
        "colab": {
          "base_uri": "https://localhost:8080/",
          "height": 382
        },
        "outputId": "68b6482c-5468-4bf8-d085-85aa09d5d88d"
      },
      "cell_type": "code",
      "source": [
        "clean_text = clean_text.apply(filter_valid_words)\n",
        "clean_text.head(20)"
      ],
      "execution_count": 95,
      "outputs": [
        {
          "output_type": "execute_result",
          "data": {
            "text/plain": [
              "0                                                   ...\n",
              "1                                                   ...\n",
              "2                                                   ...\n",
              "3                                                   ...\n",
              "4                                                   ...\n",
              "7                                                   ...\n",
              "10                                                  ...\n",
              "11                                                  ...\n",
              "12                                                  ...\n",
              "13                                                  ...\n",
              "14                                                  ...\n",
              "15     pessoas   buscam   identidade transsexual   n...\n",
              "16     depois     semana   calor curitiba terá      ...\n",
              "17      promessas   muitas combater   envelhecimento...\n",
              "18      líder       câmara baleia rossi   protocolou...\n",
              "19      meia atacante maicosuel está     situação in...\n",
              "20     concretizar   compra     carro novo   sempre ...\n",
              "21          horário   verão mudanças   secom     min...\n",
              "23      levou   encerramento   audiência   comissão ...\n",
              "24     apenas     depois   sediar     vietnã deporto...\n",
              "Name: text, dtype: object"
            ]
          },
          "metadata": {
            "tags": []
          },
          "execution_count": 95
        }
      ]
    },
    {
      "metadata": {
        "id": "puPy-GPPOqX3",
        "colab_type": "code",
        "colab": {}
      },
      "cell_type": "code",
      "source": [
        "all_formatted_text = clean_text.str.cat(sep=' ') "
      ],
      "execution_count": 0,
      "outputs": []
    },
    {
      "metadata": {
        "id": "bM8WCz7MRpaH",
        "colab_type": "code",
        "colab": {
          "base_uri": "https://localhost:8080/",
          "height": 520
        },
        "outputId": "b44b1a33-9722-432b-8789-55d3c2193db6"
      },
      "cell_type": "code",
      "source": [
        "word_list = [text for text in all_formatted_text.split(' ') if len(text) > 0]\n",
        "words = pd.DataFrame(word_list, columns=['word'])\n",
        "words.head(15)"
      ],
      "execution_count": 97,
      "outputs": [
        {
          "output_type": "execute_result",
          "data": {
            "text/html": [
              "<div>\n",
              "<style scoped>\n",
              "    .dataframe tbody tr th:only-of-type {\n",
              "        vertical-align: middle;\n",
              "    }\n",
              "\n",
              "    .dataframe tbody tr th {\n",
              "        vertical-align: top;\n",
              "    }\n",
              "\n",
              "    .dataframe thead th {\n",
              "        text-align: right;\n",
              "    }\n",
              "</style>\n",
              "<table border=\"1\" class=\"dataframe\">\n",
              "  <thead>\n",
              "    <tr style=\"text-align: right;\">\n",
              "      <th></th>\n",
              "      <th>word</th>\n",
              "    </tr>\n",
              "  </thead>\n",
              "  <tbody>\n",
              "    <tr>\n",
              "      <th>0</th>\n",
              "      <td>pessoas</td>\n",
              "    </tr>\n",
              "    <tr>\n",
              "      <th>1</th>\n",
              "      <td>buscam</td>\n",
              "    </tr>\n",
              "    <tr>\n",
              "      <th>2</th>\n",
              "      <td>identidade</td>\n",
              "    </tr>\n",
              "    <tr>\n",
              "      <th>3</th>\n",
              "      <td>transsexual</td>\n",
              "    </tr>\n",
              "    <tr>\n",
              "      <th>4</th>\n",
              "      <td>nasceram</td>\n",
              "    </tr>\n",
              "    <tr>\n",
              "      <th>5</th>\n",
              "      <td>assim</td>\n",
              "    </tr>\n",
              "    <tr>\n",
              "      <th>6</th>\n",
              "      <td>crianças</td>\n",
              "    </tr>\n",
              "    <tr>\n",
              "      <th>7</th>\n",
              "      <td>devem</td>\n",
              "    </tr>\n",
              "    <tr>\n",
              "      <th>8</th>\n",
              "      <td>estimuladas</td>\n",
              "    </tr>\n",
              "    <tr>\n",
              "      <th>9</th>\n",
              "      <td>fazer</td>\n",
              "    </tr>\n",
              "    <tr>\n",
              "      <th>10</th>\n",
              "      <td>transição</td>\n",
              "    </tr>\n",
              "    <tr>\n",
              "      <th>11</th>\n",
              "      <td>para</td>\n",
              "    </tr>\n",
              "    <tr>\n",
              "      <th>12</th>\n",
              "      <td>sexo</td>\n",
              "    </tr>\n",
              "    <tr>\n",
              "      <th>13</th>\n",
              "      <td>oposto</td>\n",
              "    </tr>\n",
              "    <tr>\n",
              "      <th>14</th>\n",
              "      <td>quem</td>\n",
              "    </tr>\n",
              "  </tbody>\n",
              "</table>\n",
              "</div>"
            ],
            "text/plain": [
              "           word\n",
              "0       pessoas\n",
              "1        buscam\n",
              "2    identidade\n",
              "3   transsexual\n",
              "4      nasceram\n",
              "5         assim\n",
              "6      crianças\n",
              "7         devem\n",
              "8   estimuladas\n",
              "9         fazer\n",
              "10    transição\n",
              "11         para\n",
              "12         sexo\n",
              "13       oposto\n",
              "14         quem"
            ]
          },
          "metadata": {
            "tags": []
          },
          "execution_count": 97
        }
      ]
    },
    {
      "metadata": {
        "id": "6pSqef4XaToW",
        "colab_type": "code",
        "colab": {
          "base_uri": "https://localhost:8080/",
          "height": 208
        },
        "outputId": "becae2ef-278e-4389-c3d6-dcc5b6220eab"
      },
      "cell_type": "code",
      "source": [
        "frequencies = words['word'].value_counts()\n",
        "frequencies.head(10)"
      ],
      "execution_count": 98,
      "outputs": [
        {
          "output_type": "execute_result",
          "data": {
            "text/plain": [
              "para       778\n",
              "mais       303\n",
              "como       261\n",
              "pela       163\n",
              "pelo       158\n",
              "também     158\n",
              "disse      150\n",
              "governo    146\n",
              "sobre      141\n",
              "anos       135\n",
              "Name: word, dtype: int64"
            ]
          },
          "metadata": {
            "tags": []
          },
          "execution_count": 98
        }
      ]
    },
    {
      "metadata": {
        "id": "HG3q6L2EhyXh",
        "colab_type": "code",
        "colab": {}
      },
      "cell_type": "code",
      "source": [
        "def get_percentage(value):\n",
        "  return value * 100"
      ],
      "execution_count": 0,
      "outputs": []
    },
    {
      "metadata": {
        "id": "ZRSRdX8OherX",
        "colab_type": "code",
        "colab": {
          "base_uri": "https://localhost:8080/",
          "height": 208
        },
        "outputId": "006c0722-10cf-4831-c212-8ee9ee20120d"
      },
      "cell_type": "code",
      "source": [
        "relative_frequencies = words['word'].value_counts(normalize=True)\n",
        "relative_frequencies = relative_frequencies.apply(get_percentage)\n",
        "relative_frequencies.head(10)"
      ],
      "execution_count": 100,
      "outputs": [
        {
          "output_type": "execute_result",
          "data": {
            "text/plain": [
              "para       2.196995\n",
              "mais       0.855642\n",
              "como       0.737038\n",
              "pela       0.460296\n",
              "pelo       0.446176\n",
              "também     0.446176\n",
              "disse      0.423585\n",
              "governo    0.412290\n",
              "sobre      0.398170\n",
              "anos       0.381227\n",
              "Name: word, dtype: float64"
            ]
          },
          "metadata": {
            "tags": []
          },
          "execution_count": 100
        }
      ]
    },
    {
      "metadata": {
        "id": "N74sRbNXr9Hu",
        "colab_type": "code",
        "colab": {
          "base_uri": "https://localhost:8080/",
          "height": 121
        },
        "outputId": "229a6350-67e5-42e2-b23f-ddb22ab53196"
      },
      "cell_type": "code",
      "source": [
        "relative_frequencies.index"
      ],
      "execution_count": 124,
      "outputs": [
        {
          "output_type": "execute_result",
          "data": {
            "text/plain": [
              "Index(['para', 'mais', 'como', 'pela', 'pelo', 'também', 'disse', 'governo',\n",
              "       'sobre', 'anos',\n",
              "       ...\n",
              "       'refis', 'cautelares', 'mede', 'inspiração', 'ocupação', 'tantos',\n",
              "       'eletromobilidade', 'velocidades', 'textura', 'goleiro'],\n",
              "      dtype='object', length=9380)"
            ]
          },
          "metadata": {
            "tags": []
          },
          "execution_count": 124
        }
      ]
    },
    {
      "metadata": {
        "id": "wkHUesApTgin",
        "colab_type": "code",
        "colab": {}
      },
      "cell_type": "code",
      "source": [
        "statistics = {}\n",
        "statistics['total_documents'] = len(clean_text)\n",
        "statistics['total_words_occurences'] = len(words)\n",
        "statistics['vocabulary_size'] = len(words.word.unique())\n",
        "statistics['words_occurring_greater_1000_times'] = len(frequencies[frequencies > 1000])\n",
        "statistics['words_occurring_once'] = len(frequencies[frequencies == 1])"
      ],
      "execution_count": 0,
      "outputs": []
    },
    {
      "metadata": {
        "id": "U32v5Ck-cjm5",
        "colab_type": "code",
        "colab": {
          "base_uri": "https://localhost:8080/",
          "height": 81
        },
        "outputId": "1c8942fe-a41f-4607-92b1-432bc0f2ca46"
      },
      "cell_type": "code",
      "source": [
        "data_statistics = pd.DataFrame(statistics, index=[0])\n",
        "data_statistics"
      ],
      "execution_count": 102,
      "outputs": [
        {
          "output_type": "execute_result",
          "data": {
            "text/html": [
              "<div>\n",
              "<style scoped>\n",
              "    .dataframe tbody tr th:only-of-type {\n",
              "        vertical-align: middle;\n",
              "    }\n",
              "\n",
              "    .dataframe tbody tr th {\n",
              "        vertical-align: top;\n",
              "    }\n",
              "\n",
              "    .dataframe thead th {\n",
              "        text-align: right;\n",
              "    }\n",
              "</style>\n",
              "<table border=\"1\" class=\"dataframe\">\n",
              "  <thead>\n",
              "    <tr style=\"text-align: right;\">\n",
              "      <th></th>\n",
              "      <th>total_documents</th>\n",
              "      <th>total_words_occurences</th>\n",
              "      <th>vocabulary_size</th>\n",
              "      <th>words_occurring_greater_1000_times</th>\n",
              "      <th>words_occurring_once</th>\n",
              "    </tr>\n",
              "  </thead>\n",
              "  <tbody>\n",
              "    <tr>\n",
              "      <th>0</th>\n",
              "      <td>119</td>\n",
              "      <td>35412</td>\n",
              "      <td>9380</td>\n",
              "      <td>0</td>\n",
              "      <td>5023</td>\n",
              "    </tr>\n",
              "  </tbody>\n",
              "</table>\n",
              "</div>"
            ],
            "text/plain": [
              "   total_documents  total_words_occurences  vocabulary_size  \\\n",
              "0              119                   35412             9380   \n",
              "\n",
              "   words_occurring_greater_1000_times  words_occurring_once  \n",
              "0                                   0                  5023  "
            ]
          },
          "metadata": {
            "tags": []
          },
          "execution_count": 102
        }
      ]
    },
    {
      "metadata": {
        "id": "-aL5qVEyt75u",
        "colab_type": "code",
        "colab": {}
      },
      "cell_type": "code",
      "source": [
        "ranking = np.arange(0,len(words['word'].unique()))"
      ],
      "execution_count": 0,
      "outputs": []
    },
    {
      "metadata": {
        "id": "ACdHJPJ8eu4_",
        "colab_type": "code",
        "colab": {
          "base_uri": "https://localhost:8080/",
          "height": 520
        },
        "outputId": "bded18d5-7f15-4e7f-9736-2d57b4b6cd1c"
      },
      "cell_type": "code",
      "source": [
        "most_frequent_50_words = {\n",
        "    'frequency': frequencies,\n",
        "    'r': ranking,\n",
        "    'Pr(%)': relative_frequencies,\n",
        "    'r.Pr': relative_frequencies * ranking\n",
        "}\n",
        "\n",
        "most_frequent_50_words = pd.DataFrame(most_frequent_50_words)\n",
        "most_frequent_50_words.head(15)"
      ],
      "execution_count": 127,
      "outputs": [
        {
          "output_type": "execute_result",
          "data": {
            "text/html": [
              "<div>\n",
              "<style scoped>\n",
              "    .dataframe tbody tr th:only-of-type {\n",
              "        vertical-align: middle;\n",
              "    }\n",
              "\n",
              "    .dataframe tbody tr th {\n",
              "        vertical-align: top;\n",
              "    }\n",
              "\n",
              "    .dataframe thead th {\n",
              "        text-align: right;\n",
              "    }\n",
              "</style>\n",
              "<table border=\"1\" class=\"dataframe\">\n",
              "  <thead>\n",
              "    <tr style=\"text-align: right;\">\n",
              "      <th></th>\n",
              "      <th>frequency</th>\n",
              "      <th>r</th>\n",
              "      <th>Pr(%)</th>\n",
              "      <th>r.Pr</th>\n",
              "    </tr>\n",
              "  </thead>\n",
              "  <tbody>\n",
              "    <tr>\n",
              "      <th>para</th>\n",
              "      <td>778</td>\n",
              "      <td>0</td>\n",
              "      <td>2.196995</td>\n",
              "      <td>0.000000</td>\n",
              "    </tr>\n",
              "    <tr>\n",
              "      <th>mais</th>\n",
              "      <td>303</td>\n",
              "      <td>1</td>\n",
              "      <td>0.855642</td>\n",
              "      <td>0.855642</td>\n",
              "    </tr>\n",
              "    <tr>\n",
              "      <th>como</th>\n",
              "      <td>261</td>\n",
              "      <td>2</td>\n",
              "      <td>0.737038</td>\n",
              "      <td>1.474077</td>\n",
              "    </tr>\n",
              "    <tr>\n",
              "      <th>pela</th>\n",
              "      <td>163</td>\n",
              "      <td>3</td>\n",
              "      <td>0.460296</td>\n",
              "      <td>1.380888</td>\n",
              "    </tr>\n",
              "    <tr>\n",
              "      <th>pelo</th>\n",
              "      <td>158</td>\n",
              "      <td>4</td>\n",
              "      <td>0.446176</td>\n",
              "      <td>1.784706</td>\n",
              "    </tr>\n",
              "    <tr>\n",
              "      <th>também</th>\n",
              "      <td>158</td>\n",
              "      <td>5</td>\n",
              "      <td>0.446176</td>\n",
              "      <td>2.230882</td>\n",
              "    </tr>\n",
              "    <tr>\n",
              "      <th>disse</th>\n",
              "      <td>150</td>\n",
              "      <td>6</td>\n",
              "      <td>0.423585</td>\n",
              "      <td>2.541511</td>\n",
              "    </tr>\n",
              "    <tr>\n",
              "      <th>governo</th>\n",
              "      <td>146</td>\n",
              "      <td>7</td>\n",
              "      <td>0.412290</td>\n",
              "      <td>2.886027</td>\n",
              "    </tr>\n",
              "    <tr>\n",
              "      <th>sobre</th>\n",
              "      <td>141</td>\n",
              "      <td>8</td>\n",
              "      <td>0.398170</td>\n",
              "      <td>3.185361</td>\n",
              "    </tr>\n",
              "    <tr>\n",
              "      <th>anos</th>\n",
              "      <td>135</td>\n",
              "      <td>9</td>\n",
              "      <td>0.381227</td>\n",
              "      <td>3.431040</td>\n",
              "    </tr>\n",
              "    <tr>\n",
              "      <th>presidente</th>\n",
              "      <td>133</td>\n",
              "      <td>10</td>\n",
              "      <td>0.375579</td>\n",
              "      <td>3.755789</td>\n",
              "    </tr>\n",
              "    <tr>\n",
              "      <th>entre</th>\n",
              "      <td>131</td>\n",
              "      <td>11</td>\n",
              "      <td>0.369931</td>\n",
              "      <td>4.069242</td>\n",
              "    </tr>\n",
              "    <tr>\n",
              "      <th>ainda</th>\n",
              "      <td>114</td>\n",
              "      <td>12</td>\n",
              "      <td>0.321925</td>\n",
              "      <td>3.863097</td>\n",
              "    </tr>\n",
              "    <tr>\n",
              "      <th>segundo</th>\n",
              "      <td>112</td>\n",
              "      <td>13</td>\n",
              "      <td>0.316277</td>\n",
              "      <td>4.111601</td>\n",
              "    </tr>\n",
              "    <tr>\n",
              "      <th>isso</th>\n",
              "      <td>109</td>\n",
              "      <td>14</td>\n",
              "      <td>0.307805</td>\n",
              "      <td>4.309274</td>\n",
              "    </tr>\n",
              "  </tbody>\n",
              "</table>\n",
              "</div>"
            ],
            "text/plain": [
              "            frequency   r     Pr(%)      r.Pr\n",
              "para              778   0  2.196995  0.000000\n",
              "mais              303   1  0.855642  0.855642\n",
              "como              261   2  0.737038  1.474077\n",
              "pela              163   3  0.460296  1.380888\n",
              "pelo              158   4  0.446176  1.784706\n",
              "também            158   5  0.446176  2.230882\n",
              "disse             150   6  0.423585  2.541511\n",
              "governo           146   7  0.412290  2.886027\n",
              "sobre             141   8  0.398170  3.185361\n",
              "anos              135   9  0.381227  3.431040\n",
              "presidente        133  10  0.375579  3.755789\n",
              "entre             131  11  0.369931  4.069242\n",
              "ainda             114  12  0.321925  3.863097\n",
              "segundo           112  13  0.316277  4.111601\n",
              "isso              109  14  0.307805  4.309274"
            ]
          },
          "metadata": {
            "tags": []
          },
          "execution_count": 127
        }
      ]
    }
  ]
}