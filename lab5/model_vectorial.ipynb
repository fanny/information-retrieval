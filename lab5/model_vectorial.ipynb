{
  "nbformat": 4,
  "nbformat_minor": 0,
  "metadata": {
    "colab": {
      "name": "model_vectorial.ipynb",
      "version": "0.3.2",
      "provenance": [],
      "collapsed_sections": [],
      "include_colab_link": true
    },
    "kernelspec": {
      "name": "python3",
      "display_name": "Python 3"
    }
  },
  "cells": [
    {
      "cell_type": "markdown",
      "metadata": {
        "id": "view-in-github",
        "colab_type": "text"
      },
      "source": [
        "<a href=\"https://colab.research.google.com/github/fanny/information-retrieval/blob/master/lab5/model_vectorial.ipynb\" target=\"_parent\"><img src=\"https://colab.research.google.com/assets/colab-badge.svg\" alt=\"Open In Colab\"/></a>"
      ]
    },
    {
      "cell_type": "code",
      "metadata": {
        "id": "zZr6IjDzMIdq",
        "colab_type": "code",
        "outputId": "8ece9260-fa93-4538-8470-1b4d2767195d",
        "colab": {
          "base_uri": "https://localhost:8080/",
          "height": 631
        }
      },
      "source": [
        "import re\n",
        "\n",
        "import pandas as pd\n",
        "import numpy as np\n",
        "\n",
        "import time\n",
        "\n",
        "import nltk\n",
        "nltk.download('punkt')\n",
        "nltk.download('stopwords')\n",
        "nltk.download('rslp')\n",
        "from nltk.tokenize import regexp_tokenize\n",
        "from nltk.corpus import stopwords\n",
        "from nltk.stem import RSLPStemmer\n",
        "\n",
        "from collections import defaultdict\n",
        "from math import log\n",
        "\n",
        "import seaborn as sns\n",
        "import matplotlib.pyplot as plt\n",
        "%matplotlib inline\n",
        "\n",
        "data = pd.read_csv('https://raw.githubusercontent.com/fanny/information-retrieval/master/lab5/results.csv')\n",
        "data.head(10)"
      ],
      "execution_count": 0,
      "outputs": [
        {
          "output_type": "stream",
          "text": [
            "[nltk_data] Downloading package punkt to /root/nltk_data...\n",
            "[nltk_data]   Package punkt is already up-to-date!\n",
            "[nltk_data] Downloading package stopwords to /root/nltk_data...\n",
            "[nltk_data]   Package stopwords is already up-to-date!\n",
            "[nltk_data] Downloading package rslp to /root/nltk_data...\n",
            "[nltk_data]   Package rslp is already up-to-date!\n"
          ],
          "name": "stdout"
        },
        {
          "output_type": "execute_result",
          "data": {
            "text/html": [
              "<div>\n",
              "<style scoped>\n",
              "    .dataframe tbody tr th:only-of-type {\n",
              "        vertical-align: middle;\n",
              "    }\n",
              "\n",
              "    .dataframe tbody tr th {\n",
              "        vertical-align: top;\n",
              "    }\n",
              "\n",
              "    .dataframe thead th {\n",
              "        text-align: right;\n",
              "    }\n",
              "</style>\n",
              "<table border=\"1\" class=\"dataframe\">\n",
              "  <thead>\n",
              "    <tr style=\"text-align: right;\">\n",
              "      <th></th>\n",
              "      <th>title</th>\n",
              "      <th>subtitle</th>\n",
              "      <th>author</th>\n",
              "      <th>date</th>\n",
              "      <th>section</th>\n",
              "      <th>text</th>\n",
              "      <th>url</th>\n",
              "    </tr>\n",
              "  </thead>\n",
              "  <tbody>\n",
              "    <tr>\n",
              "      <th>0</th>\n",
              "      <td>“A sociedade foi Rubens Paiva  não os facínora...</td>\n",
              "      <td>A decisão da juíza que proíbe as Forças Armada...</td>\n",
              "      <td>F. M.</td>\n",
              "      <td>30/03/2019 00:11:08</td>\n",
              "      <td>Brasil</td>\n",
              "      <td>A juíza federal Ivani Silva da Luz  de Brasíli...</td>\n",
              "      <td>https://brasil.elpais.com/brasil/2019/03/26/po...</td>\n",
              "    </tr>\n",
              "    <tr>\n",
              "      <th>1</th>\n",
              "      <td>Justiça suspende decisão que proibia Forças Ar...</td>\n",
              "      <td>Liminar havia sido concedida na sexta-feira a ...</td>\n",
              "      <td>Marina Rossi</td>\n",
              "      <td>30/03/2019 16:17:59</td>\n",
              "      <td>Brasil</td>\n",
              "      <td>Menos de 24 horas depois de a juíza federal Iv...</td>\n",
              "      <td>https://brasil.elpais.com/brasil/2019/03/30/po...</td>\n",
              "    </tr>\n",
              "    <tr>\n",
              "      <th>2</th>\n",
              "      <td>Governo Bolsonaro prega “negacionismo históric...</td>\n",
              "      <td>Marcos Napolitano  professor da USP  diz que o...</td>\n",
              "      <td>Regiane Oliveira</td>\n",
              "      <td>04/04/2019 22:37:48</td>\n",
              "      <td>Brasil</td>\n",
              "      <td>Quando  determinou que  de 31 de março 1964  u...</td>\n",
              "      <td>https://brasil.elpais.com/brasil/2019/04/05/po...</td>\n",
              "    </tr>\n",
              "    <tr>\n",
              "      <th>3</th>\n",
              "      <td>Quando os pais de Gabo perceberam que tinham u...</td>\n",
              "      <td>Gustavo Tatis percorre o universo de García Má...</td>\n",
              "      <td>Jesús Ruiz Mantilla</td>\n",
              "      <td>07/03/2019 16:38:56</td>\n",
              "      <td>Cultura</td>\n",
              "      <td>Quando  era pequeno   Luisa e  Gabriel se preo...</td>\n",
              "      <td>https://brasil.elpais.com/brasil/2019/03/06/cu...</td>\n",
              "    </tr>\n",
              "    <tr>\n",
              "      <th>4</th>\n",
              "      <td>Rádios canadenses banem músicas de Michael Jac...</td>\n",
              "      <td>Quebec Cogeco Media toma a decisão após queixa...</td>\n",
              "      <td>Jaime Porras Ferreyra</td>\n",
              "      <td>07/03/2019 16:12:37</td>\n",
              "      <td>Cultura</td>\n",
              "      <td>Desde a manhã da última segunda-feira     e   ...</td>\n",
              "      <td>https://brasil.elpais.com/brasil/2019/03/06/cu...</td>\n",
              "    </tr>\n",
              "    <tr>\n",
              "      <th>5</th>\n",
              "      <td>Rosângela  uma das crianças sequestradas por f...</td>\n",
              "      <td>“Roubaram minha identidade”  diz Rosângela Par...</td>\n",
              "      <td>Joana Oliveira</td>\n",
              "      <td>30/03/2019 22:21:08</td>\n",
              "      <td>Brasil</td>\n",
              "      <td>Rosângela Serra Paraná não sabe quantos anos t...</td>\n",
              "      <td>https://brasil.elpais.com/brasil/2019/03/29/po...</td>\n",
              "    </tr>\n",
              "    <tr>\n",
              "      <th>6</th>\n",
              "      <td>“Lógica de usar torturadores da ditadura no cr...</td>\n",
              "      <td>Aloy Jupiara  coautor de 'Os porões da contrav...</td>\n",
              "      <td>Felipe Betim</td>\n",
              "      <td>01/04/2019 13:22:17</td>\n",
              "      <td>Brasil</td>\n",
              "      <td>Trajetória similar tiveram outros vários agent...</td>\n",
              "      <td>https://brasil.elpais.com/brasil/2019/03/29/po...</td>\n",
              "    </tr>\n",
              "    <tr>\n",
              "      <th>7</th>\n",
              "      <td>Bolsonaro troca embaixada por escritório em Je...</td>\n",
              "      <td>Autoridade Palestina convoca embaixador no Bra...</td>\n",
              "      <td>Juan Carlos Sanz</td>\n",
              "      <td>01/04/2019 12:26:32</td>\n",
              "      <td>Brasil</td>\n",
              "      <td>A devoção dos cristãos evangélicos em seu apoi...</td>\n",
              "      <td>https://brasil.elpais.com/brasil/2019/03/31/po...</td>\n",
              "    </tr>\n",
              "    <tr>\n",
              "      <th>8</th>\n",
              "      <td>O lado mais sombrio de Dickens</td>\n",
              "      <td>Escritor e jornalista tentou internar sua mulh...</td>\n",
              "      <td>Rafa de Miguel</td>\n",
              "      <td>10/03/2019 14:29:37</td>\n",
              "      <td>Cultura</td>\n",
              "      <td>O homem mais famoso da era vitoriana  o “poeta...</td>\n",
              "      <td>https://brasil.elpais.com/brasil/2019/03/01/cu...</td>\n",
              "    </tr>\n",
              "    <tr>\n",
              "      <th>9</th>\n",
              "      <td>O amor entre mulheres que sacudiu o Paraguai</td>\n",
              "      <td>O drama ganhou três prêmios em Berlim e provoc...</td>\n",
              "      <td>Gregorio Belinchón</td>\n",
              "      <td>09/03/2019 12:10:23</td>\n",
              "      <td>Cultura</td>\n",
              "      <td>Depois de   inclusive o da crítica internacion...</td>\n",
              "      <td>https://brasil.elpais.com/brasil/2019/03/07/cu...</td>\n",
              "    </tr>\n",
              "  </tbody>\n",
              "</table>\n",
              "</div>"
            ],
            "text/plain": [
              "                                               title  ...                                                url\n",
              "0  “A sociedade foi Rubens Paiva  não os facínora...  ...  https://brasil.elpais.com/brasil/2019/03/26/po...\n",
              "1  Justiça suspende decisão que proibia Forças Ar...  ...  https://brasil.elpais.com/brasil/2019/03/30/po...\n",
              "2  Governo Bolsonaro prega “negacionismo históric...  ...  https://brasil.elpais.com/brasil/2019/04/05/po...\n",
              "3  Quando os pais de Gabo perceberam que tinham u...  ...  https://brasil.elpais.com/brasil/2019/03/06/cu...\n",
              "4  Rádios canadenses banem músicas de Michael Jac...  ...  https://brasil.elpais.com/brasil/2019/03/06/cu...\n",
              "5  Rosângela  uma das crianças sequestradas por f...  ...  https://brasil.elpais.com/brasil/2019/03/29/po...\n",
              "6  “Lógica de usar torturadores da ditadura no cr...  ...  https://brasil.elpais.com/brasil/2019/03/29/po...\n",
              "7  Bolsonaro troca embaixada por escritório em Je...  ...  https://brasil.elpais.com/brasil/2019/03/31/po...\n",
              "8                     O lado mais sombrio de Dickens  ...  https://brasil.elpais.com/brasil/2019/03/01/cu...\n",
              "9       O amor entre mulheres que sacudiu o Paraguai  ...  https://brasil.elpais.com/brasil/2019/03/07/cu...\n",
              "\n",
              "[10 rows x 7 columns]"
            ]
          },
          "metadata": {
            "tags": []
          },
          "execution_count": 211
        }
      ]
    },
    {
      "cell_type": "code",
      "metadata": {
        "id": "yPScQyd0NX55",
        "colab_type": "code",
        "colab": {}
      },
      "source": [
        "clean_text = data['text'].dropna()\n",
        "data['_id'] = list(data.index)"
      ],
      "execution_count": 0,
      "outputs": []
    },
    {
      "cell_type": "code",
      "metadata": {
        "id": "8XgoJ9-uN4ls",
        "colab_type": "code",
        "colab": {}
      },
      "source": [
        "\n",
        "def tokenize_text(text):\n",
        "  hyphenated_and_abreviated_words = '\\w{2,}[\\-|\\.]*\\w+'\n",
        "  decimal_numbers_with_symbols = '\\w?\\W?\\d{2,}[\\.|\\,]*\\d+\\W?'\n",
        "  words ='\\w{2,}'\n",
        "  numbers_with_symbols = '\\w?\\W?\\d{2,}\\W?'\n",
        "  pattern = '|'.join([hyphenated_and_abreviated_words, decimal_numbers_with_symbols, words, numbers_with_symbols])\n",
        "\n",
        "  word_list = regexp_tokenize(text, pattern=pattern)\n",
        "  return word_list"
      ],
      "execution_count": 0,
      "outputs": []
    },
    {
      "cell_type": "code",
      "metadata": {
        "id": "kTGoa4oXPM9Y",
        "colab_type": "code",
        "outputId": "9bc97f11-6f7d-4899-fab8-4beb93cd5969",
        "colab": {
          "base_uri": "https://localhost:8080/",
          "height": 204
        }
      },
      "source": [
        "tokens_per_document = clean_text.apply(tokenize_text)\n",
        "tokens_per_document_dict = {'docid': tokens_per_document.index.tolist(), 'token': tokens_per_document.values}\n",
        "tokens_per_document = pd.DataFrame(tokens_per_document_dict)\n",
        "tokens_per_document.head()"
      ],
      "execution_count": 0,
      "outputs": [
        {
          "output_type": "execute_result",
          "data": {
            "text/html": [
              "<div>\n",
              "<style scoped>\n",
              "    .dataframe tbody tr th:only-of-type {\n",
              "        vertical-align: middle;\n",
              "    }\n",
              "\n",
              "    .dataframe tbody tr th {\n",
              "        vertical-align: top;\n",
              "    }\n",
              "\n",
              "    .dataframe thead th {\n",
              "        text-align: right;\n",
              "    }\n",
              "</style>\n",
              "<table border=\"1\" class=\"dataframe\">\n",
              "  <thead>\n",
              "    <tr style=\"text-align: right;\">\n",
              "      <th></th>\n",
              "      <th>docid</th>\n",
              "      <th>token</th>\n",
              "    </tr>\n",
              "  </thead>\n",
              "  <tbody>\n",
              "    <tr>\n",
              "      <th>0</th>\n",
              "      <td>0</td>\n",
              "      <td>[juíza, federal, Ivani, Silva, da, Luz, de, Br...</td>\n",
              "    </tr>\n",
              "    <tr>\n",
              "      <th>1</th>\n",
              "      <td>1</td>\n",
              "      <td>[Menos, de,  24 , horas, depois, de, juíza, fe...</td>\n",
              "    </tr>\n",
              "    <tr>\n",
              "      <th>2</th>\n",
              "      <td>2</td>\n",
              "      <td>[Quando, determinou, que, de,  31 , de, março,...</td>\n",
              "    </tr>\n",
              "    <tr>\n",
              "      <th>3</th>\n",
              "      <td>3</td>\n",
              "      <td>[Quando, era, pequeno, Luisa, Gabriel, se, pre...</td>\n",
              "    </tr>\n",
              "    <tr>\n",
              "      <th>4</th>\n",
              "      <td>4</td>\n",
              "      <td>[Desde, manhã, da, última, segunda-feira, suce...</td>\n",
              "    </tr>\n",
              "  </tbody>\n",
              "</table>\n",
              "</div>"
            ],
            "text/plain": [
              "   docid                                              token\n",
              "0      0  [juíza, federal, Ivani, Silva, da, Luz, de, Br...\n",
              "1      1  [Menos, de,  24 , horas, depois, de, juíza, fe...\n",
              "2      2  [Quando, determinou, que, de,  31 , de, março,...\n",
              "3      3  [Quando, era, pequeno, Luisa, Gabriel, se, pre...\n",
              "4      4  [Desde, manhã, da, última, segunda-feira, suce..."
            ]
          },
          "metadata": {
            "tags": []
          },
          "execution_count": 214
        }
      ]
    },
    {
      "cell_type": "markdown",
      "metadata": {
        "id": "KCJlybgLWhe_",
        "colab_type": "text"
      },
      "source": [
        "## IDF Functions"
      ]
    },
    {
      "cell_type": "code",
      "metadata": {
        "id": "ByInPysicGxY",
        "colab_type": "code",
        "colab": {}
      },
      "source": [
        "def get_total_frequecy_of_terms():\n",
        "  total_frequency_of_terms = defaultdict(int)\n",
        "  \n",
        "  for index, row in tokens_per_document.iterrows():\n",
        "    values = row['token']\n",
        "    for value in values:\n",
        "      if value:\n",
        "        total_frequency_of_terms[value] += 1\n",
        "  \n",
        "  return total_frequency_of_terms"
      ],
      "execution_count": 0,
      "outputs": []
    },
    {
      "cell_type": "code",
      "metadata": {
        "id": "96o4YcxaUlZY",
        "colab_type": "code",
        "colab": {}
      },
      "source": [
        "N = len(tokens_per_document)\n",
        "\n",
        "def compute_idf():\n",
        "  idf_dict = defaultdict(int)\n",
        "  for token, freq in get_total_frequecy_of_terms().items():\n",
        "    idf_dict[token] = log(N/freq)\n",
        "        \n",
        "        \n",
        "  return idf_dict\n",
        "    "
      ],
      "execution_count": 0,
      "outputs": []
    },
    {
      "cell_type": "markdown",
      "metadata": {
        "id": "WfdLid9oTamu",
        "colab_type": "text"
      },
      "source": [
        "## Utilitary Functions"
      ]
    },
    {
      "cell_type": "code",
      "metadata": {
        "id": "carF3SSUTmmc",
        "colab_type": "code",
        "colab": {}
      },
      "source": [
        "idf = compute_idf()\n",
        "def has_key(the_dict, key, idf_token):\n",
        "  return the_dict[(key, idf_token)]\n",
        "\n",
        "def create_new_record(docid):\n",
        "  return (docid, 1)\n",
        "\n",
        "def search_docid_record_in_indexes(values, docid):\n",
        "  index = -1\n",
        "  count = 0\n",
        "  \n",
        "  for (i, value) in enumerate(values):\n",
        "    tuple_docid, frequency = value\n",
        "    if tuple_docid == docid:\n",
        "      index = i\n",
        "      count = frequency\n",
        "      \n",
        "  return (index, count)"
      ],
      "execution_count": 0,
      "outputs": []
    },
    {
      "cell_type": "code",
      "metadata": {
        "id": "w6uRIIaiToqh",
        "colab_type": "code",
        "outputId": "3d5eb59d-77c7-43d1-92d4-ca68264bd412",
        "colab": {
          "base_uri": "https://localhost:8080/",
          "height": 34
        }
      },
      "source": [
        "indexes = defaultdict(list)\n",
        "\n",
        "\n",
        "def build_index(row):\n",
        "  docid, tokens = row\n",
        "  for token in tokens:\n",
        "    idf_token = idf[token]\n",
        "    if has_key(indexes, token, idf_token):\n",
        "      values = indexes[(token, idf_token)]\n",
        "      index_of_record, frequency = search_docid_record_in_indexes(values, docid)\n",
        "      is_encontered = index_of_record != -1 \n",
        "      if is_encontered:\n",
        "        indexes[(token, idf_token)][index_of_record] = (docid, frequency + 1)\n",
        "      else:\n",
        "        indexes[(token, idf_token)].append(create_new_record(docid))\n",
        "    else:\n",
        "        indexes[(token, idf_token)].append(create_new_record(docid))\n",
        "        \n",
        "        \n",
        "tokens_per_document.apply(build_index, axis=1)\n",
        "len(indexes)"
      ],
      "execution_count": 0,
      "outputs": [
        {
          "output_type": "execute_result",
          "data": {
            "text/plain": [
              "26856"
            ]
          },
          "metadata": {
            "tags": []
          },
          "execution_count": 218
        }
      ]
    },
    {
      "cell_type": "markdown",
      "metadata": {
        "id": "GVacOK8woe7I",
        "colab_type": "text"
      },
      "source": [
        "## Binary Representation"
      ]
    },
    {
      "cell_type": "code",
      "metadata": {
        "id": "IX6qmEHoovlB",
        "colab_type": "code",
        "colab": {}
      },
      "source": [
        "def build_binary_representation_doc(query_terms, doc_terms):\n",
        "  vector_len = len(query_terms)\n",
        "  doc_binary_rep = np.zeros(vector_len)\n",
        "  for index, query_term in enumerate(query_terms):\n",
        "    doc_terms = list(map(str.lower, doc_terms))\n",
        "    if query_term in doc_terms:\n",
        "      doc_binary_rep[index] = 1\n",
        "      \n",
        "  return doc_binary_rep\n",
        "      \n",
        "\n",
        "      \n",
        "def get_binary_representation_doc(query):\n",
        "  query_terms = query.lower().split(' ')\n",
        "  doc_binary_rep = defaultdict(list)\n",
        "  for index, row in tokens_per_document.iterrows():\n",
        "    docid = row['docid']\n",
        "    values = row['token']\n",
        "    doc_binary_rep[docid] = build_binary_representation_doc(query_terms, values)\n",
        "      \n",
        "  return doc_binary_rep\n",
        "    \n",
        "    \n"
      ],
      "execution_count": 0,
      "outputs": []
    },
    {
      "cell_type": "code",
      "metadata": {
        "id": "uuYx1mJOWRyT",
        "colab_type": "code",
        "colab": {}
      },
      "source": [
        "def get_binary_similarity(binary_representation_doc):\n",
        "  doc_similarity = {}\n",
        "  for doc, vector in binary_representation_doc.items():\n",
        "    doc_similarity[doc] = sum(vector)\n",
        "    \n",
        "  return doc_similarity"
      ],
      "execution_count": 0,
      "outputs": []
    },
    {
      "cell_type": "markdown",
      "metadata": {
        "id": "B01jaACNcklI",
        "colab_type": "text"
      },
      "source": [
        "## Term Frequency Representation\n"
      ]
    },
    {
      "cell_type": "code",
      "metadata": {
        "id": "3ofAMIFJbxZy",
        "colab_type": "code",
        "colab": {}
      },
      "source": [
        "def build_tf_representation_doc(query):\n",
        "  tf_representation = {}\n",
        "  query_terms = query.lower().split(' ')\n",
        "  for query_term in query_terms:\n",
        "    idf_token = idf[query_term]\n",
        "    for the_tuple in indexes[(query_term, idf_token)]:\n",
        "      docid, frequency = the_tuple\n",
        "      tf_representation[(docid, query_term)] = frequency\n",
        "   \n",
        "  return tf_representation\n",
        "    \n"
      ],
      "execution_count": 0,
      "outputs": []
    },
    {
      "cell_type": "markdown",
      "metadata": {
        "id": "ZwaoiNRufyGA",
        "colab_type": "text"
      },
      "source": [
        "## TF-IDF Representation"
      ]
    },
    {
      "cell_type": "code",
      "metadata": {
        "id": "03DRntjrfwMi",
        "colab_type": "code",
        "colab": {}
      },
      "source": [
        "def build_tf_idf_representation(query):\n",
        "  tf_idf_representation = {}\n",
        "  tf_representation = build_tf_representation_doc(query)\n",
        "  tokens = query.lower().split(' ')\n",
        "  for tf_index in tf_representation:\n",
        "    _, term = tf_index\n",
        "    tf_value = tf_representation[tf_index]\n",
        "    tf_idf_representation[tf_index] = tf_value * idf[term]\n",
        "    \n",
        "  return tf_idf_representation\n",
        "\n",
        "\n"
      ],
      "execution_count": 0,
      "outputs": []
    },
    {
      "cell_type": "markdown",
      "metadata": {
        "id": "_aZ6Eaz5kVuf",
        "colab_type": "text"
      },
      "source": [
        "## BM25"
      ]
    },
    {
      "cell_type": "code",
      "metadata": {
        "id": "ZKMhiih-zgkt",
        "colab_type": "code",
        "colab": {}
      },
      "source": [
        "def get_n(query_term, tf_representation):\n",
        "  count = 0\n",
        "  for index in tf_representation:\n",
        "    _, term = index\n",
        "    if term.lower() == query_term.lower():\n",
        "      count += 1\n",
        "      \n",
        "  return count"
      ],
      "execution_count": 0,
      "outputs": []
    },
    {
      "cell_type": "code",
      "metadata": {
        "id": "dw9VKiwkj7Sn",
        "colab_type": "code",
        "colab": {}
      },
      "source": [
        "def build_bm25_representation(query):\n",
        "  bm25_representation = {}\n",
        "  k = 2\n",
        "  b = 0.75\n",
        "  len_data = len(data)\n",
        "  tf_representation = build_tf_representation_doc(query)\n",
        "  tokens = query.lower().split(' ')\n",
        "  for tf_index in tf_representation:\n",
        "    _, term = tf_index\n",
        "    tf_value = tf_representation[tf_index]\n",
        "    n = get_n(term, tf_representation)\n",
        "    f4 = n and log((len_data - n)/n)\n",
        "    bm25_representation[tf_index] = ((tf_value * (k+1))/(tf_value + k)) * f4\n",
        "    \n",
        "  return bm25_representation"
      ],
      "execution_count": 0,
      "outputs": []
    },
    {
      "cell_type": "markdown",
      "metadata": {
        "id": "Bp7ywh__7T9N",
        "colab_type": "text"
      },
      "source": [
        "## Testes Binary Representation\n"
      ]
    },
    {
      "cell_type": "code",
      "metadata": {
        "id": "UMUyFY2H7JlB",
        "colab_type": "code",
        "colab": {}
      },
      "source": [
        "def get_bin_ranking(query):\n",
        "  binary_representation_doc = get_binary_representation_doc(query)\n",
        "  binary_similarity = get_binary_similarity(binary_representation_doc)\n",
        "  binary_similarity = pd.DataFrame(binary_similarity.values(), index=binary_similarity.keys(), columns=['bin_similarity'])\n",
        "  ranking_binary = binary_similarity.sort_values(by='bin_similarity', ascending=False)\n",
        "  return ranking_binary.head()"
      ],
      "execution_count": 0,
      "outputs": []
    },
    {
      "cell_type": "code",
      "metadata": {
        "id": "jirs9QmL9yiS",
        "colab_type": "code",
        "colab": {}
      },
      "source": [
        "def get_tf_ranking(query):\n",
        "  tf_rep = build_tf_representation_doc(query)\n",
        "  docids = [docid for docid, _ in tf_rep.keys()]\n",
        "  values = tf_rep.values()\n",
        "  ranking = pd.DataFrame(values, columns=['tf_score'], index=docids)\n",
        "  ranking = ranking.sort_values(by='tf_score', ascending=False)\n",
        "  return ranking.head()"
      ],
      "execution_count": 0,
      "outputs": []
    },
    {
      "cell_type": "code",
      "metadata": {
        "id": "4z9D8VGvDM_6",
        "colab_type": "code",
        "colab": {}
      },
      "source": [
        "def get_tf_idf_ranking(query):\n",
        "  tf_idf_rep = build_tf_idf_representation(query)\n",
        "  docids = [docid for docid, _ in tf_idf_rep.keys()]\n",
        "  values = tf_idf_rep.values()\n",
        "  ranking = pd.DataFrame(values, columns=['tf_idf_score'], index=docids)\n",
        "  ranking = ranking.sort_values(by='tf_idf_score', ascending=False)\n",
        "  return ranking.head()\n"
      ],
      "execution_count": 0,
      "outputs": []
    },
    {
      "cell_type": "code",
      "metadata": {
        "id": "ZUBf1cRZ2vlk",
        "colab_type": "code",
        "colab": {}
      },
      "source": [
        "def get_bm25_ranking(query):\n",
        "  bm25_rep = build_bm25_representation(query)\n",
        "  docids = [docid for docid, _ in bm25_rep.keys()]\n",
        "  values = bm25_rep.values()\n",
        "  ranking = pd.DataFrame(values, columns=['bm25_score'], index=docids)\n",
        "  ranking = ranking.sort_values(by='bm25_score', ascending=False)\n",
        "  return ranking.head()\n",
        "\n"
      ],
      "execution_count": 0,
      "outputs": []
    },
    {
      "cell_type": "markdown",
      "metadata": {
        "id": "HSjRJPmw-tSy",
        "colab_type": "text"
      },
      "source": [
        "## Query 1"
      ]
    },
    {
      "cell_type": "code",
      "metadata": {
        "id": "tsqi-6ST88RE",
        "colab_type": "code",
        "outputId": "e8d7f3cc-709d-4041-ce8c-c5cb47ae573a",
        "colab": {
          "base_uri": "https://localhost:8080/",
          "height": 204
        }
      },
      "source": [
        "results_table1 = {\n",
        "    'Binary similarity': get_bin_ranking('juíza federal').index,\n",
        "    'TF similarity': get_tf_ranking('juíza federal').index,\n",
        "    'TF IDF similarity': get_tf_idf_ranking('juíza federal').index,\n",
        "    'Bm25 similarity': get_bm25_ranking('juíza federal').index\n",
        "}\n",
        "pd.DataFrame(results_table1)"
      ],
      "execution_count": 0,
      "outputs": [
        {
          "output_type": "execute_result",
          "data": {
            "text/html": [
              "<div>\n",
              "<style scoped>\n",
              "    .dataframe tbody tr th:only-of-type {\n",
              "        vertical-align: middle;\n",
              "    }\n",
              "\n",
              "    .dataframe tbody tr th {\n",
              "        vertical-align: top;\n",
              "    }\n",
              "\n",
              "    .dataframe thead th {\n",
              "        text-align: right;\n",
              "    }\n",
              "</style>\n",
              "<table border=\"1\" class=\"dataframe\">\n",
              "  <thead>\n",
              "    <tr style=\"text-align: right;\">\n",
              "      <th></th>\n",
              "      <th>Binary similarity</th>\n",
              "      <th>TF similarity</th>\n",
              "      <th>TF IDF similarity</th>\n",
              "      <th>Bm25 similarity</th>\n",
              "    </tr>\n",
              "  </thead>\n",
              "  <tbody>\n",
              "    <tr>\n",
              "      <th>0</th>\n",
              "      <td>0</td>\n",
              "      <td>150</td>\n",
              "      <td>0</td>\n",
              "      <td>0</td>\n",
              "    </tr>\n",
              "    <tr>\n",
              "      <th>1</th>\n",
              "      <td>1</td>\n",
              "      <td>0</td>\n",
              "      <td>150</td>\n",
              "      <td>1</td>\n",
              "    </tr>\n",
              "    <tr>\n",
              "      <th>2</th>\n",
              "      <td>207</td>\n",
              "      <td>6</td>\n",
              "      <td>1</td>\n",
              "      <td>150</td>\n",
              "    </tr>\n",
              "    <tr>\n",
              "      <th>3</th>\n",
              "      <td>222</td>\n",
              "      <td>36</td>\n",
              "      <td>6</td>\n",
              "      <td>6</td>\n",
              "    </tr>\n",
              "    <tr>\n",
              "      <th>4</th>\n",
              "      <td>33</td>\n",
              "      <td>212</td>\n",
              "      <td>36</td>\n",
              "      <td>36</td>\n",
              "    </tr>\n",
              "  </tbody>\n",
              "</table>\n",
              "</div>"
            ],
            "text/plain": [
              "   Binary similarity  TF similarity  TF IDF similarity  Bm25 similarity\n",
              "0                  0            150                  0                0\n",
              "1                  1              0                150                1\n",
              "2                207              6                  1              150\n",
              "3                222             36                  6                6\n",
              "4                 33            212                 36               36"
            ]
          },
          "metadata": {
            "tags": []
          },
          "execution_count": 229
        }
      ]
    },
    {
      "cell_type": "markdown",
      "metadata": {
        "id": "_oY9g9TrVN_A",
        "colab_type": "text"
      },
      "source": [
        "Os resultados mais satisfatórios são provenientes da similaridade binária, analisando as notícias, da mesma, vemos que todas possuem uma relação com julgamentos, enquanto que nas outras abordagens estão muito mais relacionadas a nóticias de economia do governo do atual presidente, Jair Bolsonaro. Podemos concluir que isso se dá ao fato de que, os outros métodos, por considerarem a frequência, e por terem 'federal' como um termo bastante comum, acabam colocando esses documentos em posições mais elevadas, enquanto que no caso da similaridade binária, por não considerar relevante a frequência, considera mais documentos que contém ambos os termos, tendo assim maior similaridade com a consulta."
      ]
    },
    {
      "cell_type": "markdown",
      "metadata": {
        "id": "xwC_-zp5-wR_",
        "colab_type": "text"
      },
      "source": [
        "## Query 2"
      ]
    },
    {
      "cell_type": "code",
      "metadata": {
        "id": "oL92ik0x-4Rk",
        "colab_type": "code",
        "outputId": "1a953a09-0ea7-4f03-cb6b-4c4f7e2a1c79",
        "colab": {
          "base_uri": "https://localhost:8080/",
          "height": 204
        }
      },
      "source": [
        "results_table2 = {\n",
        "    'Binary similarity': get_bin_ranking('temperatura agora').index,\n",
        "    'TF similarity': get_tf_ranking('temperatura agora').index,\n",
        "    'TF IDF similarity': get_tf_idf_ranking('temperatura agora').index,\n",
        "    'Bm25 similarity': get_bm25_ranking('temperatura agora').index\n",
        "}\n",
        "pd.DataFrame(results_table2)"
      ],
      "execution_count": 0,
      "outputs": [
        {
          "output_type": "execute_result",
          "data": {
            "text/html": [
              "<div>\n",
              "<style scoped>\n",
              "    .dataframe tbody tr th:only-of-type {\n",
              "        vertical-align: middle;\n",
              "    }\n",
              "\n",
              "    .dataframe tbody tr th {\n",
              "        vertical-align: top;\n",
              "    }\n",
              "\n",
              "    .dataframe thead th {\n",
              "        text-align: right;\n",
              "    }\n",
              "</style>\n",
              "<table border=\"1\" class=\"dataframe\">\n",
              "  <thead>\n",
              "    <tr style=\"text-align: right;\">\n",
              "      <th></th>\n",
              "      <th>Binary similarity</th>\n",
              "      <th>TF similarity</th>\n",
              "      <th>TF IDF similarity</th>\n",
              "      <th>Bm25 similarity</th>\n",
              "    </tr>\n",
              "  </thead>\n",
              "  <tbody>\n",
              "    <tr>\n",
              "      <th>0</th>\n",
              "      <td>137</td>\n",
              "      <td>165</td>\n",
              "      <td>137</td>\n",
              "      <td>137</td>\n",
              "    </tr>\n",
              "    <tr>\n",
              "      <th>1</th>\n",
              "      <td>0</td>\n",
              "      <td>184</td>\n",
              "      <td>77</td>\n",
              "      <td>77</td>\n",
              "    </tr>\n",
              "    <tr>\n",
              "      <th>2</th>\n",
              "      <td>112</td>\n",
              "      <td>101</td>\n",
              "      <td>136</td>\n",
              "      <td>136</td>\n",
              "    </tr>\n",
              "    <tr>\n",
              "      <th>3</th>\n",
              "      <td>128</td>\n",
              "      <td>124</td>\n",
              "      <td>165</td>\n",
              "      <td>165</td>\n",
              "    </tr>\n",
              "    <tr>\n",
              "      <th>4</th>\n",
              "      <td>129</td>\n",
              "      <td>139</td>\n",
              "      <td>184</td>\n",
              "      <td>184</td>\n",
              "    </tr>\n",
              "  </tbody>\n",
              "</table>\n",
              "</div>"
            ],
            "text/plain": [
              "   Binary similarity  TF similarity  TF IDF similarity  Bm25 similarity\n",
              "0                137            165                137              137\n",
              "1                  0            184                 77               77\n",
              "2                112            101                136              136\n",
              "3                128            124                165              165\n",
              "4                129            139                184              184"
            ]
          },
          "metadata": {
            "tags": []
          },
          "execution_count": 230
        }
      ]
    },
    {
      "cell_type": "markdown",
      "metadata": {
        "id": "Am5xd63oYQ9W",
        "colab_type": "text"
      },
      "source": [
        "O melhor resultado veio da similaridade calculada a partir do tf idf e bm25, uma vez que eles recuperarm os mesmos documentos, nos outros coeficientes, as noticias estavam relacionadas ao termo 'agora', no caso dessas duas, temos uma noticia relacionada a ondas de calor. Mesmo não sendo a resposta ideal, podemos supor que pode ser decorrente do nosso dataset não possuir notícias que discutem o tempo do dia."
      ]
    },
    {
      "cell_type": "markdown",
      "metadata": {
        "id": "5x4YepYC_SvQ",
        "colab_type": "text"
      },
      "source": [
        "## Query 3"
      ]
    },
    {
      "cell_type": "code",
      "metadata": {
        "id": "Og1hy2gBBCNw",
        "colab_type": "code",
        "outputId": "28fc9210-514a-4e9b-9412-3d5c904bb990",
        "colab": {
          "base_uri": "https://localhost:8080/",
          "height": 204
        }
      },
      "source": [
        "results_table3 = {\n",
        "    'Binary similarity': get_bin_ranking('nação brasileira').index,\n",
        "    'TF similarity': get_tf_ranking('nação brasileira').index,\n",
        "    'TF IDF similarity': get_tf_idf_ranking('nação brasileira').index,\n",
        "    'Bm25 similarity': get_bm25_ranking('nação brasileira').index\n",
        "}\n",
        "pd.DataFrame(results_table3)"
      ],
      "execution_count": 0,
      "outputs": [
        {
          "output_type": "execute_result",
          "data": {
            "text/html": [
              "<div>\n",
              "<style scoped>\n",
              "    .dataframe tbody tr th:only-of-type {\n",
              "        vertical-align: middle;\n",
              "    }\n",
              "\n",
              "    .dataframe tbody tr th {\n",
              "        vertical-align: top;\n",
              "    }\n",
              "\n",
              "    .dataframe thead th {\n",
              "        text-align: right;\n",
              "    }\n",
              "</style>\n",
              "<table border=\"1\" class=\"dataframe\">\n",
              "  <thead>\n",
              "    <tr style=\"text-align: right;\">\n",
              "      <th></th>\n",
              "      <th>Binary similarity</th>\n",
              "      <th>TF similarity</th>\n",
              "      <th>TF IDF similarity</th>\n",
              "      <th>Bm25 similarity</th>\n",
              "    </tr>\n",
              "  </thead>\n",
              "  <tbody>\n",
              "    <tr>\n",
              "      <th>0</th>\n",
              "      <td>0</td>\n",
              "      <td>137</td>\n",
              "      <td>165</td>\n",
              "      <td>165</td>\n",
              "    </tr>\n",
              "    <tr>\n",
              "      <th>1</th>\n",
              "      <td>20</td>\n",
              "      <td>165</td>\n",
              "      <td>137</td>\n",
              "      <td>20</td>\n",
              "    </tr>\n",
              "    <tr>\n",
              "      <th>2</th>\n",
              "      <td>100</td>\n",
              "      <td>20</td>\n",
              "      <td>165</td>\n",
              "      <td>75</td>\n",
              "    </tr>\n",
              "    <tr>\n",
              "      <th>3</th>\n",
              "      <td>165</td>\n",
              "      <td>41</td>\n",
              "      <td>200</td>\n",
              "      <td>100</td>\n",
              "    </tr>\n",
              "    <tr>\n",
              "      <th>4</th>\n",
              "      <td>91</td>\n",
              "      <td>200</td>\n",
              "      <td>41</td>\n",
              "      <td>116</td>\n",
              "    </tr>\n",
              "  </tbody>\n",
              "</table>\n",
              "</div>"
            ],
            "text/plain": [
              "   Binary similarity  TF similarity  TF IDF similarity  Bm25 similarity\n",
              "0                  0            137                165              165\n",
              "1                 20            165                137               20\n",
              "2                100             20                165               75\n",
              "3                165             41                200              100\n",
              "4                 91            200                 41              116"
            ]
          },
          "metadata": {
            "tags": []
          },
          "execution_count": 231
        }
      ]
    },
    {
      "cell_type": "markdown",
      "metadata": {
        "id": "h4PlBnxXZVWk",
        "colab_type": "text"
      },
      "source": [
        "Assim como na query anterior, no mundo ideal, teríamos notícias muito relacionadas a patriotismo, problemas sociais barsileiros, mas os documentos recuperados também falam de política e economia, apesar de ter relação, a meu ponto de vista, não seria o que o usuário esperaria, o desempenho dos coeficientes, nesse caso, foi bastante semelhante, pois os documentos recuperados por cada um deles, eram muito similares"
      ]
    },
    {
      "cell_type": "markdown",
      "metadata": {
        "id": "WUCZ_xgmJ3cM",
        "colab_type": "text"
      },
      "source": [
        "## Jacquard Index"
      ]
    },
    {
      "cell_type": "code",
      "metadata": {
        "id": "x-RcuPpEJ6gF",
        "colab_type": "code",
        "colab": {}
      },
      "source": [
        "def jacquard_index(first_data, second_data):\n",
        "  intersection = set(first_data).intersection(set(second_data))\n",
        "  union = set(first_data).union(set(second_data))\n",
        "  return len(intersection)/len(union)"
      ],
      "execution_count": 0,
      "outputs": []
    },
    {
      "cell_type": "markdown",
      "metadata": {
        "id": "JZCZ4AAsTVPe",
        "colab_type": "text"
      },
      "source": [
        "## Bin e TF"
      ]
    },
    {
      "cell_type": "code",
      "metadata": {
        "id": "r_CGzSnAPrQn",
        "colab_type": "code",
        "outputId": "f0a5d141-9ace-44ca-b38a-00bcd9311aa0",
        "colab": {
          "base_uri": "https://localhost:8080/",
          "height": 34
        }
      },
      "source": [
        "bin1 = get_bin_ranking('juíza federal').index\n",
        "tf1 = get_tf_ranking('juíza federal').index\n",
        "jacquard_index(bin1, tf1)"
      ],
      "execution_count": 0,
      "outputs": [
        {
          "output_type": "execute_result",
          "data": {
            "text/plain": [
              "0.1111111111111111"
            ]
          },
          "metadata": {
            "tags": []
          },
          "execution_count": 233
        }
      ]
    },
    {
      "cell_type": "code",
      "metadata": {
        "id": "guJyKgw5UoMk",
        "colab_type": "code",
        "outputId": "27bcaa86-edf2-497e-9e1d-28a017e39d81",
        "colab": {
          "base_uri": "https://localhost:8080/",
          "height": 34
        }
      },
      "source": [
        "bin2 = get_bin_ranking('temperatura agora').index\n",
        "tf2 = get_tf_ranking('temperatura agora').index\n",
        "jacquard_index(bin2, tf2)"
      ],
      "execution_count": 0,
      "outputs": [
        {
          "output_type": "execute_result",
          "data": {
            "text/plain": [
              "0.0"
            ]
          },
          "metadata": {
            "tags": []
          },
          "execution_count": 234
        }
      ]
    },
    {
      "cell_type": "code",
      "metadata": {
        "id": "GdaWo38QUodb",
        "colab_type": "code",
        "outputId": "25ba74f2-ba77-4a94-ed62-a4d64dc9dd7d",
        "colab": {
          "base_uri": "https://localhost:8080/",
          "height": 34
        }
      },
      "source": [
        "bin3 = get_bin_ranking('nação brasileira').index\n",
        "tf3 = get_tf_ranking('nação brasileira').index\n",
        "jacquard_index(bin3, tf3)"
      ],
      "execution_count": 0,
      "outputs": [
        {
          "output_type": "execute_result",
          "data": {
            "text/plain": [
              "0.25"
            ]
          },
          "metadata": {
            "tags": []
          },
          "execution_count": 235
        }
      ]
    },
    {
      "cell_type": "markdown",
      "metadata": {
        "id": "4EpUAMkBTYnn",
        "colab_type": "text"
      },
      "source": [
        "## Bin e TF-IDF"
      ]
    },
    {
      "cell_type": "code",
      "metadata": {
        "id": "J_w19Q-yUmx5",
        "colab_type": "code",
        "outputId": "f45cf797-4397-42fc-88e3-95497ed44ee7",
        "colab": {
          "base_uri": "https://localhost:8080/",
          "height": 34
        }
      },
      "source": [
        "bin4 = get_bin_ranking('juíza federal').index\n",
        "tf_idf1 = get_tf_idf_ranking('juíza federal').index\n",
        "jacquard_index(bin4, tf_idf1)"
      ],
      "execution_count": 0,
      "outputs": [
        {
          "output_type": "execute_result",
          "data": {
            "text/plain": [
              "0.25"
            ]
          },
          "metadata": {
            "tags": []
          },
          "execution_count": 236
        }
      ]
    },
    {
      "cell_type": "code",
      "metadata": {
        "id": "SK9Z_tcuWGSI",
        "colab_type": "code",
        "outputId": "6950a7b0-9d93-4101-fab2-4203644bb463",
        "colab": {
          "base_uri": "https://localhost:8080/",
          "height": 34
        }
      },
      "source": [
        "bin5 = get_bin_ranking('temperatura agora').index\n",
        "tf_idf2 = get_tf_idf_ranking('temperatura agora').index\n",
        "jacquard_index(bin5, tf_idf2)"
      ],
      "execution_count": 0,
      "outputs": [
        {
          "output_type": "execute_result",
          "data": {
            "text/plain": [
              "0.1111111111111111"
            ]
          },
          "metadata": {
            "tags": []
          },
          "execution_count": 237
        }
      ]
    },
    {
      "cell_type": "code",
      "metadata": {
        "id": "JRkcm2m0WIHy",
        "colab_type": "code",
        "outputId": "b71ab356-2d29-4596-d400-74013998e5b4",
        "colab": {
          "base_uri": "https://localhost:8080/",
          "height": 34
        }
      },
      "source": [
        "bin6 = get_bin_ranking('nação brasileira').index\n",
        "tf_idf3 = get_tf_idf_ranking('nação brasileira').index\n",
        "jacquard_index(bin6, tf_idf3)"
      ],
      "execution_count": 0,
      "outputs": [
        {
          "output_type": "execute_result",
          "data": {
            "text/plain": [
              "0.125"
            ]
          },
          "metadata": {
            "tags": []
          },
          "execution_count": 238
        }
      ]
    },
    {
      "cell_type": "markdown",
      "metadata": {
        "id": "h8jAfbHnTb75",
        "colab_type": "text"
      },
      "source": [
        "## Bin e BM25"
      ]
    },
    {
      "cell_type": "code",
      "metadata": {
        "id": "9_eU9p5WW4Jv",
        "colab_type": "code",
        "outputId": "8cce4f01-1a82-4be5-ff0d-d032c81f225b",
        "colab": {
          "base_uri": "https://localhost:8080/",
          "height": 34
        }
      },
      "source": [
        "bin7 = get_bin_ranking('juíza federal').index\n",
        "bm25_1 = get_bm25_ranking('juíza federal').index\n",
        "jacquard_index(bin7, bm25_1)"
      ],
      "execution_count": 0,
      "outputs": [
        {
          "output_type": "execute_result",
          "data": {
            "text/plain": [
              "0.25"
            ]
          },
          "metadata": {
            "tags": []
          },
          "execution_count": 239
        }
      ]
    },
    {
      "cell_type": "code",
      "metadata": {
        "id": "xr6XyESOW4Va",
        "colab_type": "code",
        "outputId": "7470728a-2d14-4e3c-bc07-8b4df39db658",
        "colab": {
          "base_uri": "https://localhost:8080/",
          "height": 34
        }
      },
      "source": [
        "bin8 = get_bin_ranking('temperatura agora').index\n",
        "bm25_2 = get_bm25_ranking('temperatura agora').index\n",
        "jacquard_index(bin8, bm25_2)"
      ],
      "execution_count": 0,
      "outputs": [
        {
          "output_type": "execute_result",
          "data": {
            "text/plain": [
              "0.1111111111111111"
            ]
          },
          "metadata": {
            "tags": []
          },
          "execution_count": 240
        }
      ]
    },
    {
      "cell_type": "code",
      "metadata": {
        "id": "2wZcZxN7W4fd",
        "colab_type": "code",
        "outputId": "20dec4fd-7f23-42a2-edc3-f2b3799825a6",
        "colab": {
          "base_uri": "https://localhost:8080/",
          "height": 34
        }
      },
      "source": [
        "bin9 = get_bin_ranking('nação brasileira').index\n",
        "bm25_3 = get_bm25_ranking('nação brasileira').index\n",
        "jacquard_index(bin9, bm25_3)"
      ],
      "execution_count": 0,
      "outputs": [
        {
          "output_type": "execute_result",
          "data": {
            "text/plain": [
              "0.42857142857142855"
            ]
          },
          "metadata": {
            "tags": []
          },
          "execution_count": 241
        }
      ]
    },
    {
      "cell_type": "markdown",
      "metadata": {
        "id": "SgyHAUnqTxyZ",
        "colab_type": "text"
      },
      "source": [
        "## TF e TF-IDF"
      ]
    },
    {
      "cell_type": "code",
      "metadata": {
        "id": "YAW-2aiJW5Ue",
        "colab_type": "code",
        "outputId": "2b96be5f-ae57-4365-ab00-1e594e895dfd",
        "colab": {
          "base_uri": "https://localhost:8080/",
          "height": 34
        }
      },
      "source": [
        "tf4 = get_tf_ranking('juíza federal').index\n",
        "tf_idf4 = get_tf_idf_ranking('juíza federal').index\n",
        "jacquard_index(tf4, tf_idf4)"
      ],
      "execution_count": 0,
      "outputs": [
        {
          "output_type": "execute_result",
          "data": {
            "text/plain": [
              "0.6666666666666666"
            ]
          },
          "metadata": {
            "tags": []
          },
          "execution_count": 242
        }
      ]
    },
    {
      "cell_type": "code",
      "metadata": {
        "id": "QlLwHy-CW5ck",
        "colab_type": "code",
        "outputId": "eb94ff9c-05f7-47af-c349-47c03e6ca3bb",
        "colab": {
          "base_uri": "https://localhost:8080/",
          "height": 34
        }
      },
      "source": [
        "tf5 = get_tf_ranking('temperatura agora').index\n",
        "tf_idf5 = get_tf_idf_ranking('temperatura agora').index\n",
        "jacquard_index(tf5, tf_idf5)"
      ],
      "execution_count": 0,
      "outputs": [
        {
          "output_type": "execute_result",
          "data": {
            "text/plain": [
              "0.25"
            ]
          },
          "metadata": {
            "tags": []
          },
          "execution_count": 243
        }
      ]
    },
    {
      "cell_type": "code",
      "metadata": {
        "id": "8HpqISiQW5lR",
        "colab_type": "code",
        "outputId": "2929d37e-b532-42e9-d47b-ebe68d308444",
        "colab": {
          "base_uri": "https://localhost:8080/",
          "height": 34
        }
      },
      "source": [
        "tf6 = get_tf_ranking('nação brasileira').index\n",
        "tf_idf6 = get_tf_idf_ranking('nação brasileira').index\n",
        "jacquard_index(tf6, tf_idf6)"
      ],
      "execution_count": 0,
      "outputs": [
        {
          "output_type": "execute_result",
          "data": {
            "text/plain": [
              "0.8"
            ]
          },
          "metadata": {
            "tags": []
          },
          "execution_count": 244
        }
      ]
    },
    {
      "cell_type": "markdown",
      "metadata": {
        "id": "aMuvtFkkUJlR",
        "colab_type": "text"
      },
      "source": [
        "## TF e BM25"
      ]
    },
    {
      "cell_type": "code",
      "metadata": {
        "id": "HzS5KEf9XDY4",
        "colab_type": "code",
        "outputId": "03d080d5-6775-4861-cf7d-2ba62a368685",
        "colab": {
          "base_uri": "https://localhost:8080/",
          "height": 34
        }
      },
      "source": [
        "tf_6 = get_tf_ranking('juíza federal').index\n",
        "bm25_6 = get_bm25_ranking('juíza federal').index\n",
        "jacquard_index(bm25_6, tf_6)"
      ],
      "execution_count": 0,
      "outputs": [
        {
          "output_type": "execute_result",
          "data": {
            "text/plain": [
              "0.6666666666666666"
            ]
          },
          "metadata": {
            "tags": []
          },
          "execution_count": 245
        }
      ]
    },
    {
      "cell_type": "code",
      "metadata": {
        "id": "5OEC9ygqXDiL",
        "colab_type": "code",
        "outputId": "ec220bce-58de-429b-b606-0c06724d0e67",
        "colab": {
          "base_uri": "https://localhost:8080/",
          "height": 34
        }
      },
      "source": [
        "tf_7 = get_tf_ranking('temperatura agora').index\n",
        "bm25_7 = get_bm25_ranking('temperatura agora').index\n",
        "jacquard_index(bm25_7, tf_7)"
      ],
      "execution_count": 0,
      "outputs": [
        {
          "output_type": "execute_result",
          "data": {
            "text/plain": [
              "0.25"
            ]
          },
          "metadata": {
            "tags": []
          },
          "execution_count": 246
        }
      ]
    },
    {
      "cell_type": "code",
      "metadata": {
        "id": "CQ984VjCXDqH",
        "colab_type": "code",
        "outputId": "a83f6b2e-500a-4319-bfda-2dd12015ef12",
        "colab": {
          "base_uri": "https://localhost:8080/",
          "height": 34
        }
      },
      "source": [
        "tf_8 = get_tf_ranking('nação brasileira').index\n",
        "bm25_8 = get_bm25_ranking('nação brasileira').index\n",
        "jacquard_index(bm25_8, tf_8)"
      ],
      "execution_count": 0,
      "outputs": [
        {
          "output_type": "execute_result",
          "data": {
            "text/plain": [
              "0.25"
            ]
          },
          "metadata": {
            "tags": []
          },
          "execution_count": 247
        }
      ]
    },
    {
      "cell_type": "markdown",
      "metadata": {
        "id": "r1fGB1w_UN7d",
        "colab_type": "text"
      },
      "source": [
        "## TF-IDF e BM25"
      ]
    },
    {
      "cell_type": "code",
      "metadata": {
        "id": "5kpAGmVdUI1X",
        "colab_type": "code",
        "outputId": "7d13bb48-1086-45f5-b80d-63db5b620f0b",
        "colab": {
          "base_uri": "https://localhost:8080/",
          "height": 34
        }
      },
      "source": [
        "tf_idf7 = get_tf_idf_ranking('juíza federal').index\n",
        "bm25_9 = get_bm25_ranking('juíza federal').index\n",
        "jacquard_index(tf_idf7, bm25_9)"
      ],
      "execution_count": 0,
      "outputs": [
        {
          "output_type": "execute_result",
          "data": {
            "text/plain": [
              "1.0"
            ]
          },
          "metadata": {
            "tags": []
          },
          "execution_count": 248
        }
      ]
    },
    {
      "cell_type": "code",
      "metadata": {
        "id": "CdFQA8qfUM3F",
        "colab_type": "code",
        "outputId": "81da15c7-4b81-4a97-8494-45cc01050c27",
        "colab": {
          "base_uri": "https://localhost:8080/",
          "height": 34
        }
      },
      "source": [
        "tf_idf8 = get_tf_idf_ranking('temperatura agora').index\n",
        "bm25_10 = get_bm25_ranking('temperatura agora').index\n",
        "jacquard_index(tf_idf8, bm25_10)"
      ],
      "execution_count": 0,
      "outputs": [
        {
          "output_type": "execute_result",
          "data": {
            "text/plain": [
              "1.0"
            ]
          },
          "metadata": {
            "tags": []
          },
          "execution_count": 249
        }
      ]
    },
    {
      "cell_type": "code",
      "metadata": {
        "id": "rn09zW_BQ-gB",
        "colab_type": "code",
        "outputId": "69c9de6f-a2b5-4d2c-bc56-746235aa8dfa",
        "colab": {
          "base_uri": "https://localhost:8080/",
          "height": 34
        }
      },
      "source": [
        "tf_idf9 = get_tf_idf_ranking('nação brasileira').index\n",
        "bm25_11 = get_bm25_ranking('nação brasileira').index\n",
        "jacquard_index(tf_idf9, bm25_11)"
      ],
      "execution_count": 0,
      "outputs": [
        {
          "output_type": "execute_result",
          "data": {
            "text/plain": [
              "0.125"
            ]
          },
          "metadata": {
            "tags": []
          },
          "execution_count": 250
        }
      ]
    }
  ]
}