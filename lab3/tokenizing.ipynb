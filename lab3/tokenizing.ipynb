{
  "nbformat": 4,
  "nbformat_minor": 0,
  "metadata": {
    "colab": {
      "name": "tokenizing.ipynb",
      "version": "0.3.2",
      "provenance": [],
      "collapsed_sections": [],
      "include_colab_link": true
    },
    "kernelspec": {
      "name": "python3",
      "display_name": "Python 3"
    }
  },
  "cells": [
    {
      "cell_type": "markdown",
      "metadata": {
        "id": "view-in-github",
        "colab_type": "text"
      },
      "source": [
        "<a href=\"https://colab.research.google.com/github/fanny/information-retrieval/blob/master/lab3/tokenizing.ipynb\" target=\"_parent\"><img src=\"https://colab.research.google.com/assets/colab-badge.svg\" alt=\"Open In Colab\"/></a>"
      ]
    },
    {
      "metadata": {
        "id": "cMSr_9Msq3AV",
        "colab_type": "code",
        "outputId": "98f195f9-576e-411b-c06b-5b92583af119",
        "colab": {
          "base_uri": "https://localhost:8080/",
          "height": 606
        }
      },
      "cell_type": "code",
      "source": [
        "import re\n",
        "\n",
        "import pandas as pd\n",
        "import numpy as np\n",
        "\n",
        "import nltk\n",
        "nltk.download('punkt')\n",
        "nltk.download('stopwords')\n",
        "from nltk.tokenize import regexp_tokenize\n",
        "from nltk.corpus import stopwords\n",
        "\n",
        "import seaborn as sns\n",
        "import matplotlib.pyplot as plt\n",
        "%matplotlib inline\n",
        "\n",
        "data = pd.read_csv('https://raw.githubusercontent.com/fanny/information-retrieval/master/lab2/data/results.csv')\n",
        "data.head(10)"
      ],
      "execution_count": 73,
      "outputs": [
        {
          "output_type": "stream",
          "text": [
            "[nltk_data] Downloading package punkt to /root/nltk_data...\n",
            "[nltk_data]   Package punkt is already up-to-date!\n",
            "[nltk_data] Downloading package stopwords to /root/nltk_data...\n",
            "[nltk_data]   Package stopwords is already up-to-date!\n"
          ],
          "name": "stdout"
        },
        {
          "output_type": "execute_result",
          "data": {
            "text/html": [
              "<div>\n",
              "<style scoped>\n",
              "    .dataframe tbody tr th:only-of-type {\n",
              "        vertical-align: middle;\n",
              "    }\n",
              "\n",
              "    .dataframe tbody tr th {\n",
              "        vertical-align: top;\n",
              "    }\n",
              "\n",
              "    .dataframe thead th {\n",
              "        text-align: right;\n",
              "    }\n",
              "</style>\n",
              "<table border=\"1\" class=\"dataframe\">\n",
              "  <thead>\n",
              "    <tr style=\"text-align: right;\">\n",
              "      <th></th>\n",
              "      <th>_id</th>\n",
              "      <th>author</th>\n",
              "      <th>date</th>\n",
              "      <th>section</th>\n",
              "      <th>sub_title</th>\n",
              "      <th>text</th>\n",
              "      <th>title</th>\n",
              "      <th>url</th>\n",
              "    </tr>\n",
              "  </thead>\n",
              "  <tbody>\n",
              "    <tr>\n",
              "      <th>0</th>\n",
              "      <td>7</td>\n",
              "      <td>NaN</td>\n",
              "      <td>05/04/2019 |</td>\n",
              "      <td>agronegocio</td>\n",
              "      <td>NaN</td>\n",
              "      <td>NaN</td>\n",
              "      <td>\\t\\t\\t\\t</td>\n",
              "      <td>https://www.gazetadopovo.com.br/agronegocio/ex...</td>\n",
              "    </tr>\n",
              "    <tr>\n",
              "      <th>1</th>\n",
              "      <td>2</td>\n",
              "      <td>NaN</td>\n",
              "      <td>NaN</td>\n",
              "      <td>wiseup-news</td>\n",
              "      <td>NaN</td>\n",
              "      <td>NaN</td>\n",
              "      <td>NaN</td>\n",
              "      <td>https://www.gazetadopovo.com.br/wiseup-news/bo...</td>\n",
              "    </tr>\n",
              "    <tr>\n",
              "      <th>2</th>\n",
              "      <td>3</td>\n",
              "      <td>NaN</td>\n",
              "      <td>NaN</td>\n",
              "      <td>futebol</td>\n",
              "      <td>NaN</td>\n",
              "      <td>NaN</td>\n",
              "      <td>NaN</td>\n",
              "      <td>https://especiais.gazetadopovo.com.br/futebol/...</td>\n",
              "    </tr>\n",
              "    <tr>\n",
              "      <th>3</th>\n",
              "      <td>9</td>\n",
              "      <td>NaN</td>\n",
              "      <td>05/04/2019 |</td>\n",
              "      <td>agronegocio</td>\n",
              "      <td>NaN</td>\n",
              "      <td>NaN</td>\n",
              "      <td>Suspensão de frigoríficos não impediu alta de ...</td>\n",
              "      <td>https://www.gazetadopovo.com.br/agronegocio/ag...</td>\n",
              "    </tr>\n",
              "    <tr>\n",
              "      <th>4</th>\n",
              "      <td>1</td>\n",
              "      <td>The Daily Signal</td>\n",
              "      <td>NaN</td>\n",
              "      <td>ideias</td>\n",
              "      <td>NaN</td>\n",
              "      <td>Pessoas que buscam uma identidade transsexual ...</td>\n",
              "      <td>Populares</td>\n",
              "      <td>https://www.gazetadopovo.com.br/ideias/nao-se-...</td>\n",
              "    </tr>\n",
              "    <tr>\n",
              "      <th>5</th>\n",
              "      <td>5</td>\n",
              "      <td>Gazeta do Povo</td>\n",
              "      <td>NaN</td>\n",
              "      <td>curitiba</td>\n",
              "      <td>NaN</td>\n",
              "      <td>Depois de uma semana de calor, Curitiba terá u...</td>\n",
              "      <td>Populares</td>\n",
              "      <td>https://www.gazetadopovo.com.br/curitiba/previ...</td>\n",
              "    </tr>\n",
              "    <tr>\n",
              "      <th>6</th>\n",
              "      <td>40</td>\n",
              "      <td>Flávia Alves, especial para a Gazeta do Povo</td>\n",
              "      <td>NaN</td>\n",
              "      <td>viver-bem</td>\n",
              "      <td>NaN</td>\n",
              "      <td>As promessas são muitas: combater o envelhecim...</td>\n",
              "      <td>NaN</td>\n",
              "      <td>https://www.gazetadopovo.com.br/viver-bem/saud...</td>\n",
              "    </tr>\n",
              "    <tr>\n",
              "      <th>7</th>\n",
              "      <td>6</td>\n",
              "      <td>Agência Estado</td>\n",
              "      <td>NaN</td>\n",
              "      <td>republica</td>\n",
              "      <td>NaN</td>\n",
              "      <td>O líder do MDB na Câmara, Baleia Rossi (SP), p...</td>\n",
              "      <td>Populares</td>\n",
              "      <td>https://www.gazetadopovo.com.br/republica/pec-...</td>\n",
              "    </tr>\n",
              "    <tr>\n",
              "      <th>8</th>\n",
              "      <td>20</td>\n",
              "      <td>Daniel Malucelli</td>\n",
              "      <td>[05/04/2019]</td>\n",
              "      <td>esportes</td>\n",
              "      <td>mercado</td>\n",
              "      <td>O meia-atacante Maicosuel está com a situação ...</td>\n",
              "      <td>Paraná não descarta dispensa de Maicosuel ante...</td>\n",
              "      <td>https://www.gazetadopovo.com.br/esportes/paran...</td>\n",
              "    </tr>\n",
              "    <tr>\n",
              "      <th>9</th>\n",
              "      <td>10</td>\n",
              "      <td>Renyere Trovão</td>\n",
              "      <td>NaN</td>\n",
              "      <td>automoveis</td>\n",
              "      <td>NaN</td>\n",
              "      <td>Concretizar a compra de um carro novo nem semp...</td>\n",
              "      <td>Populares</td>\n",
              "      <td>https://www.gazetadopovo.com.br/automoveis/car...</td>\n",
              "    </tr>\n",
              "  </tbody>\n",
              "</table>\n",
              "</div>"
            ],
            "text/plain": [
              "   _id                                        author          date  \\\n",
              "0    7                                           NaN  05/04/2019 |   \n",
              "1    2                                           NaN           NaN   \n",
              "2    3                                           NaN           NaN   \n",
              "3    9                                           NaN  05/04/2019 |   \n",
              "4    1                              The Daily Signal           NaN   \n",
              "5    5                                Gazeta do Povo           NaN   \n",
              "6   40  Flávia Alves, especial para a Gazeta do Povo           NaN   \n",
              "7    6                                Agência Estado           NaN   \n",
              "8   20                              Daniel Malucelli  [05/04/2019]   \n",
              "9   10                                Renyere Trovão           NaN   \n",
              "\n",
              "       section sub_title                                               text  \\\n",
              "0  agronegocio       NaN                                                NaN   \n",
              "1  wiseup-news       NaN                                                NaN   \n",
              "2      futebol       NaN                                                NaN   \n",
              "3  agronegocio       NaN                                                NaN   \n",
              "4       ideias       NaN  Pessoas que buscam uma identidade transsexual ...   \n",
              "5     curitiba       NaN  Depois de uma semana de calor, Curitiba terá u...   \n",
              "6    viver-bem       NaN  As promessas são muitas: combater o envelhecim...   \n",
              "7    republica       NaN  O líder do MDB na Câmara, Baleia Rossi (SP), p...   \n",
              "8     esportes   mercado  O meia-atacante Maicosuel está com a situação ...   \n",
              "9   automoveis       NaN  Concretizar a compra de um carro novo nem semp...   \n",
              "\n",
              "                                               title  \\\n",
              "0                                           \\t\\t\\t\\t   \n",
              "1                                                NaN   \n",
              "2                                                NaN   \n",
              "3  Suspensão de frigoríficos não impediu alta de ...   \n",
              "4                                          Populares   \n",
              "5                                          Populares   \n",
              "6                                                NaN   \n",
              "7                                          Populares   \n",
              "8  Paraná não descarta dispensa de Maicosuel ante...   \n",
              "9                                          Populares   \n",
              "\n",
              "                                                 url  \n",
              "0  https://www.gazetadopovo.com.br/agronegocio/ex...  \n",
              "1  https://www.gazetadopovo.com.br/wiseup-news/bo...  \n",
              "2  https://especiais.gazetadopovo.com.br/futebol/...  \n",
              "3  https://www.gazetadopovo.com.br/agronegocio/ag...  \n",
              "4  https://www.gazetadopovo.com.br/ideias/nao-se-...  \n",
              "5  https://www.gazetadopovo.com.br/curitiba/previ...  \n",
              "6  https://www.gazetadopovo.com.br/viver-bem/saud...  \n",
              "7  https://www.gazetadopovo.com.br/republica/pec-...  \n",
              "8  https://www.gazetadopovo.com.br/esportes/paran...  \n",
              "9  https://www.gazetadopovo.com.br/automoveis/car...  "
            ]
          },
          "metadata": {
            "tags": []
          },
          "execution_count": 73
        }
      ]
    },
    {
      "metadata": {
        "id": "KpMuYE5nu0eh",
        "colab_type": "code",
        "colab": {}
      },
      "cell_type": "code",
      "source": [
        "clean_text = data['text'].dropna()\n",
        "def filter_by_criteria(text, criteria):\n",
        "  filtered_words = re.findall(criteria, text)\n",
        "  filtered_words = ' '.join(filtered_words)\n",
        " \n",
        "  return filtered_words"
      ],
      "execution_count": 0,
      "outputs": []
    },
    {
      "metadata": {
        "id": "cjNZ_NowuNv3",
        "colab_type": "code",
        "colab": {}
      },
      "cell_type": "code",
      "source": [
        "def get_words_filtered(criteria):\n",
        "  filtered_text = clean_text.apply(lambda text: filter_by_criteria(text, criteria))\n",
        "  all_filtered_text = filtered_text.str.cat(sep=' ')\n",
        "  all_words_filtered = all_filtered_text.split(' ')\n",
        "\n",
        "  all_words_filtered = [text for text in all_words_filtered if len(text) > 0]\n",
        "\n",
        "  return set(all_words_filtered[:200])"
      ],
      "execution_count": 0,
      "outputs": []
    },
    {
      "metadata": {
        "id": "t-ndzfdMrLAY",
        "colab_type": "text"
      },
      "cell_type": "markdown",
      "source": [
        "## Tokenização\n",
        "\n",
        "> Tokenização é o processo de formar palavras de uma sequência de caracteres em um documento    \n",
        "\n",
        "**Obs: Texto extraido do livro**\n",
        "\n",
        "E para formar essas palavras podemos usar alguns critérios, como:\n",
        "- Quantidade de caracteres; Palavras hifenizadas; Caracteres especiais;\n",
        "- Caracteres em Caixa Alta ou Baixa; Apostrófos; Números; Abreviações;\n",
        "\n",
        "Cada critério desse, pode guardar uma importância, se tratando dessa base de dados de notícias, alguns poderão ser mais relevantes que outros e veremos o motivo.\n",
        "\n",
        "Para conseguir concluir quais critérios usar no processo de tokenização, começaremos analisando os dados, garantindo assim que não ignoremos palavras que são importantes.\n",
        "\n",
        "Se você quiser pular essa parte de análise, e ir para os critérios de tokenização que irei considerar, [clique aqui](https://colab.research.google.com/drive/1EP_hx0xDOgID34aTHwCNL-AFgBWvrGcH?authuser=1#scrollTo=hz-6d5cp6zEJ), mas tenha em mente que só explico os fatores que me levaram a tomar essa decisão aqui embaixo.\n",
        "\n",
        "### Quantidade de caracteres\n",
        "\n",
        "A primeira suposição é que palavras com quantidade menores que 3 geralmente não são importantes, porque representam artigos, preposições etc, que não agregam tanto valor na busca.\n",
        "\n",
        "#### Resultados"
      ]
    },
    {
      "metadata": {
        "id": "KFMDH8RCvwos",
        "colab_type": "code",
        "colab": {}
      },
      "cell_type": "code",
      "source": [
        "get_words_filtered(r'\\b\\w{0,3}\\b')\n"
      ],
      "execution_count": 0,
      "outputs": []
    },
    {
      "metadata": {
        "id": "B-o0_tBawkOR",
        "colab_type": "text"
      },
      "cell_type": "markdown",
      "source": [
        "A título de informação, só mostramos o set das 200 primeiras, mas olhando os dados podemos observar coisas interessantes como:\n",
        "\n",
        "- Palavras capitalizadas indicam Siglas - APA, PIB, IPI, IVA, PEC, RJ\n",
        "- Números só com um dígito, não são relevantes\n",
        "- Ocorrem palavras com tamanho menor ou igual a dois que são importantes, indicam siglas, como 'RJ', 'PEC' e outras que o seu próprio significado tem muito valor, como 'gay' e 'pai'\n",
        "\n",
        "Sendo assim, removeremos as palavras de tamanho 1 e as stopwords do brasil.\n"
      ]
    },
    {
      "metadata": {
        "id": "rNxdCiesybQq",
        "colab_type": "text"
      },
      "cell_type": "markdown",
      "source": [
        "### Palavras hífenizadas\n",
        "\n",
        "Provavelmente palavras com hífen serão muito importantes, porque elas representam dias da semana, nomes geográficos(Grã-Bretanha), certas espécies de animais e vegetais(Bem-te-vi, Couve-Flor) alguns adjetivos (mal-humorada) dentre outras."
      ]
    },
    {
      "metadata": {
        "id": "rOejJ_Uoyv0o",
        "colab_type": "code",
        "colab": {}
      },
      "cell_type": "code",
      "source": [
        "get_words_filtered(r'[a-zA-Z]+\\-[a-zA-Z]+')\n"
      ],
      "execution_count": 0,
      "outputs": []
    },
    {
      "metadata": {
        "id": "j8NjwunyzIQW",
        "colab_type": "text"
      },
      "cell_type": "markdown",
      "source": [
        "De fato, foram encontrados dias da semana, partidos, cargos, e muitas palavras importantes com hífen demonstrando que elas não devem ser removidas.\n",
        "\n",
        "### Caracteres especiais\n",
        "\n",
        "Também podem ser importantes, basta pensarmos em '%' que pode indicar percentuais, '$' que pode indicar dinheiro, 'º' que pode inficar uma posição, enfim, veremos a seguir, se esses símbolos são importantes no texto.\n",
        "\n",
        "Olhando símbolos nos textos, além da nossa suposição, foram encontrados certos delimitadores, que não acrescentam informações no texto como:\n",
        "- '\\r\\n'\n",
        "- '\\xaO'  \n",
        "Sendo assim, removeremos eles.\n",
        "\n",
        "### Apóstrofos\n",
        "\n",
        "Podem indicar marcas (Burguer’s King, McDonald’s) extrangeiras, ou uma “composição” de palavras como: pingo d’ água\n",
        "\n",
        "#### Resultados"
      ]
    },
    {
      "metadata": {
        "id": "6olTKbvP4_6C",
        "colab_type": "code",
        "colab": {}
      },
      "cell_type": "code",
      "source": [
        "get_words_filtered(r\"\\w+\\'\\w*\")"
      ],
      "execution_count": 0,
      "outputs": []
    },
    {
      "metadata": {
        "id": "xTY0I-fr5Qfl",
        "colab_type": "text"
      },
      "cell_type": "markdown",
      "source": [
        "As palavras encontradas com apóstrofo,  provavlmente são erros de digitação/formatação, fazendo mais sentido da replace pra um caractere vazio, e não considerar o hífen na tokenização.\n",
        "\n",
        "### Números\n",
        "\n",
        "Números são extremamente importantes, podem indicar horas, salários, anos, posições, temperaturas, etc.\n",
        "\n",
        "#### Resultados\n"
      ]
    },
    {
      "metadata": {
        "id": "6xDTf4tG50zT",
        "colab_type": "code",
        "colab": {}
      },
      "cell_type": "code",
      "source": [
        "get_words_filtered(r'\\d+\\w+')"
      ],
      "execution_count": 0,
      "outputs": []
    },
    {
      "metadata": {
        "id": "z_XRkZz65_xe",
        "colab_type": "text"
      },
      "cell_type": "markdown",
      "source": [
        "Confirmando a suposição, não é interessante removê-los.\n",
        "\n",
        "### Abreviações\n",
        "\n",
        "Podem agregar muito valor pois servem para indicar cidades, siglas e etc..\n",
        "\n",
        "### Resultados"
      ]
    },
    {
      "metadata": {
        "id": "EZlRNDrg6p_l",
        "colab_type": "code",
        "colab": {}
      },
      "cell_type": "code",
      "source": [
        "get_words_filtered(r'(\\w+\\.\\w+)*')"
      ],
      "execution_count": 0,
      "outputs": []
    },
    {
      "metadata": {
        "id": "hz-6d5cp6zEJ",
        "colab_type": "text"
      },
      "cell_type": "markdown",
      "source": [
        "Assim, como no caso anterior, não é bom que eliminemos, pois temos números decimais, domínios de sites e etc.\n",
        "\n",
        "## Conlusões dos critérios de tokenização\n",
        "\n",
        "Da análise anterior, fica claro, que removeremos apóstrofos, palavras de tamanho igual a 1, stopwords e alguns símbolos de escape.\n",
        "\n",
        "## Criando os tokens\n",
        "\n"
      ]
    },
    {
      "metadata": {
        "id": "UxXlEInnOUEM",
        "colab_type": "text"
      },
      "cell_type": "markdown",
      "source": [
        ""
      ]
    },
    {
      "metadata": {
        "id": "tDmyNhHaFPbQ",
        "colab_type": "code",
        "colab": {
          "base_uri": "https://localhost:8080/",
          "height": 991
        },
        "outputId": "6198636c-b1d5-41a7-a940-4caec54e8d28"
      },
      "cell_type": "code",
      "source": [
        "all_text = clean_text.str.cat(sep=' ')\n",
        "hyphenated_and_abreviated_words = '\\w{2,}[\\-*|\\.*]\\w+'\n",
        "decimal_numbers_with_symbols = '\\w?\\d{2,}[\\.|\\,]*\\d+\\W*'\n",
        "words ='\\w{2,}'\n",
        "numbers_with_symbols = '\\w?\\W*\\d{2,}\\W*'\n",
        "word_list = regexp_tokenize(all_text, pattern='%s|%s|%s|%s' %(hyphenated_and_abreviated_words, decimal_numbers_with_symbols, words, numbers_with_symbols))\n",
        "word_list = pd.DataFrame(word_list, columns=['word'])\n",
        "word_list.head(30)"
      ],
      "execution_count": 138,
      "outputs": [
        {
          "output_type": "execute_result",
          "data": {
            "text/html": [
              "<div>\n",
              "<style scoped>\n",
              "    .dataframe tbody tr th:only-of-type {\n",
              "        vertical-align: middle;\n",
              "    }\n",
              "\n",
              "    .dataframe tbody tr th {\n",
              "        vertical-align: top;\n",
              "    }\n",
              "\n",
              "    .dataframe thead th {\n",
              "        text-align: right;\n",
              "    }\n",
              "</style>\n",
              "<table border=\"1\" class=\"dataframe\">\n",
              "  <thead>\n",
              "    <tr style=\"text-align: right;\">\n",
              "      <th></th>\n",
              "      <th>word</th>\n",
              "    </tr>\n",
              "  </thead>\n",
              "  <tbody>\n",
              "    <tr>\n",
              "      <th>0</th>\n",
              "      <td>Pessoas</td>\n",
              "    </tr>\n",
              "    <tr>\n",
              "      <th>1</th>\n",
              "      <td>que</td>\n",
              "    </tr>\n",
              "    <tr>\n",
              "      <th>2</th>\n",
              "      <td>buscam</td>\n",
              "    </tr>\n",
              "    <tr>\n",
              "      <th>3</th>\n",
              "      <td>uma</td>\n",
              "    </tr>\n",
              "    <tr>\n",
              "      <th>4</th>\n",
              "      <td>identidade</td>\n",
              "    </tr>\n",
              "    <tr>\n",
              "      <th>5</th>\n",
              "      <td>transsexual</td>\n",
              "    </tr>\n",
              "    <tr>\n",
              "      <th>6</th>\n",
              "      <td>não</td>\n",
              "    </tr>\n",
              "    <tr>\n",
              "      <th>7</th>\n",
              "      <td>nasceram</td>\n",
              "    </tr>\n",
              "    <tr>\n",
              "      <th>8</th>\n",
              "      <td>assim</td>\n",
              "    </tr>\n",
              "    <tr>\n",
              "      <th>9</th>\n",
              "      <td>crianças</td>\n",
              "    </tr>\n",
              "    <tr>\n",
              "      <th>10</th>\n",
              "      <td>não</td>\n",
              "    </tr>\n",
              "    <tr>\n",
              "      <th>11</th>\n",
              "      <td>devem</td>\n",
              "    </tr>\n",
              "    <tr>\n",
              "      <th>12</th>\n",
              "      <td>ser</td>\n",
              "    </tr>\n",
              "    <tr>\n",
              "      <th>13</th>\n",
              "      <td>estimuladas</td>\n",
              "    </tr>\n",
              "    <tr>\n",
              "      <th>14</th>\n",
              "      <td>fazer</td>\n",
              "    </tr>\n",
              "    <tr>\n",
              "      <th>15</th>\n",
              "      <td>transição</td>\n",
              "    </tr>\n",
              "    <tr>\n",
              "      <th>16</th>\n",
              "      <td>para</td>\n",
              "    </tr>\n",
              "    <tr>\n",
              "      <th>17</th>\n",
              "      <td>sexo</td>\n",
              "    </tr>\n",
              "    <tr>\n",
              "      <th>18</th>\n",
              "      <td>oposto</td>\n",
              "    </tr>\n",
              "    <tr>\n",
              "      <th>19</th>\n",
              "      <td>Quem</td>\n",
              "    </tr>\n",
              "    <tr>\n",
              "      <th>20</th>\n",
              "      <td>diz</td>\n",
              "    </tr>\n",
              "    <tr>\n",
              "      <th>21</th>\n",
              "      <td>uma</td>\n",
              "    </tr>\n",
              "    <tr>\n",
              "      <th>22</th>\n",
              "      <td>obra</td>\n",
              "    </tr>\n",
              "    <tr>\n",
              "      <th>23</th>\n",
              "      <td>de</td>\n",
              "    </tr>\n",
              "    <tr>\n",
              "      <th>24</th>\n",
              "      <td>referência</td>\n",
              "    </tr>\n",
              "    <tr>\n",
              "      <th>25</th>\n",
              "      <td>recomendada</td>\n",
              "    </tr>\n",
              "    <tr>\n",
              "      <th>26</th>\n",
              "      <td>pela</td>\n",
              "    </tr>\n",
              "    <tr>\n",
              "      <th>27</th>\n",
              "      <td>Associação</td>\n",
              "    </tr>\n",
              "    <tr>\n",
              "      <th>28</th>\n",
              "      <td>Norte-Americana</td>\n",
              "    </tr>\n",
              "    <tr>\n",
              "      <th>29</th>\n",
              "      <td>de</td>\n",
              "    </tr>\n",
              "  </tbody>\n",
              "</table>\n",
              "</div>"
            ],
            "text/plain": [
              "               word\n",
              "0           Pessoas\n",
              "1               que\n",
              "2            buscam\n",
              "3               uma\n",
              "4        identidade\n",
              "5       transsexual\n",
              "6               não\n",
              "7          nasceram\n",
              "8             assim\n",
              "9          crianças\n",
              "10              não\n",
              "11            devem\n",
              "12              ser\n",
              "13      estimuladas\n",
              "14            fazer\n",
              "15        transição\n",
              "16             para\n",
              "17             sexo\n",
              "18           oposto\n",
              "19             Quem\n",
              "20              diz\n",
              "21              uma\n",
              "22             obra\n",
              "23               de\n",
              "24       referência\n",
              "25      recomendada\n",
              "26             pela\n",
              "27       Associação\n",
              "28  Norte-Americana\n",
              "29               de"
            ]
          },
          "metadata": {
            "tags": []
          },
          "execution_count": 138
        }
      ]
    },
    {
      "metadata": {
        "id": "VVq8NjzvUst2",
        "colab_type": "text"
      },
      "cell_type": "markdown",
      "source": [
        "### Entendendo regex\n",
        "\n",
        "\n",
        "\n",
        "```regex\n",
        "\\w{2,}[\\-*|\\.*]\\w+|\\d{2,}[\\.*|\\,*]\\d+|\\w{2,}|\\d{2,}'\n",
        "\n",
        "```\n",
        "Quebramos em tokens pelos seguintes critérios:\n",
        "- Palavras com tamanho maior que 2: `\\w{2,}`\n",
        "- Números com quant. de algarismos maior que 2 com símbolos: `\\w?\\W*\\d{2,}\\W*`\n",
        "- Palavras hifenizadas, ou com ponto:`\\w{2,}[\\-*|\\.*]\\w+`\n",
        "- Números decimais com símbolos('$', '%'): `\\w?\\d{2,}[\\.|\\,]*\\d+\\W*`\n",
        "\n"
      ]
    }
  ]
}